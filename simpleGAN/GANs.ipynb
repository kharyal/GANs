{
  "nbformat": 4,
  "nbformat_minor": 0,
  "metadata": {
    "colab": {
      "name": "GANs.ipynb",
      "provenance": [],
      "collapsed_sections": [],
      "include_colab_link": true
    },
    "kernelspec": {
      "name": "python3",
      "display_name": "Python 3"
    },
    "accelerator": "GPU"
  },
  "cells": [
    {
      "cell_type": "markdown",
      "metadata": {
        "id": "view-in-github",
        "colab_type": "text"
      },
      "source": [
        "<a href=\"https://colab.research.google.com/github/kharyal/GANs/blob/master/simpleGAN/GANs.ipynb\" target=\"_parent\"><img src=\"https://colab.research.google.com/assets/colab-badge.svg\" alt=\"Open In Colab\"/></a>"
      ]
    },
    {
      "cell_type": "code",
      "metadata": {
        "id": "5MX3r6WD2Pma",
        "colab_type": "code",
        "colab": {}
      },
      "source": [
        "import torch\n",
        "import torch.nn as nn\n",
        "import torchvision.transforms as transforms\n",
        "import torchvision.datasets as dsets\n",
        "from torch.autograd import Variable\n",
        "import torchvision\n",
        "import torch.nn as nn\n",
        "import torch.nn.functional as F\n",
        "import torch.optim as optim\n",
        "import numpy as np\n",
        "import matplotlib.pyplot as plt\n",
        "# from utils import Logger"
      ],
      "execution_count": 0,
      "outputs": []
    },
    {
      "cell_type": "code",
      "metadata": {
        "id": "FwC5XU9P2RUn",
        "colab_type": "code",
        "colab": {}
      },
      "source": [
        "batch_size=90\n",
        "train = dsets.MNIST(root = './data', train = True,\n",
        "                        transform = transforms.Compose(\n",
        "        [transforms.ToTensor(),\n",
        "         transforms.Normalize((.5,), (.5,))\n",
        "        ]), download = True)\n",
        "\n",
        "test = dsets.MNIST(root = './data', train = False,\n",
        "                       transform = transforms.Compose(\n",
        "        [transforms.ToTensor(),\n",
        "         transforms.Normalize((.5,), (.5,))\n",
        "        ]))\n",
        "train_batch = torch.utils.data.DataLoader(dataset = train,\n",
        "                                             batch_size = batch_size,\n",
        "                         \n",
        "                                             shuffle = True)\n",
        "\n",
        "test_batch = torch.utils.data.DataLoader(dataset = test,\n",
        "                                      batch_size = batch_size, \n",
        "                                      shuffle = False)"
      ],
      "execution_count": 0,
      "outputs": []
    },
    {
      "cell_type": "code",
      "metadata": {
        "id": "ayRhB2V33vIz",
        "colab_type": "code",
        "colab": {
          "base_uri": "https://localhost:8080/",
          "height": 34
        },
        "outputId": "40045a8f-67de-41f2-bbfd-17b8077ba8a0"
      },
      "source": [
        "print(train.data.shape)\n",
        "def images_to_vectors(images):\n",
        "    return images.view(images.size(0), 784)\n",
        "\n",
        "def vectors_to_images(vectors):\n",
        "    return vectors.view(vectors.size(0), 1, 28, 28)"
      ],
      "execution_count": 728,
      "outputs": [
        {
          "output_type": "stream",
          "text": [
            "torch.Size([60000, 28, 28])\n"
          ],
          "name": "stdout"
        }
      ]
    },
    {
      "cell_type": "code",
      "metadata": {
        "id": "PEq7MqiK2ddO",
        "colab_type": "code",
        "colab": {}
      },
      "source": [
        "class discriminator(nn.Module):\n",
        "    def __init__(self):\n",
        "        super(discriminator,self).__init__()\n",
        "        ip=784\n",
        "        op=1\n",
        "\n",
        "        self.layer1=nn.Sequential(\n",
        "            nn.Linear(ip,1024),\n",
        "            nn.LeakyReLU(0.2),\n",
        "            nn.Dropout(0.3)\n",
        "        )\n",
        "\n",
        "        self.layer2=nn.Sequential(\n",
        "            nn.Linear(1024,512),\n",
        "            nn.LeakyReLU(0.2),\n",
        "            nn.Dropout(0.3)\n",
        "        )\n",
        "\n",
        "        # self.layer3=nn.Sequential(\n",
        "        #     nn.Linear(512,256),\n",
        "        #     nn.LeakyReLU(0.2),\n",
        "        #     nn.Dropout(0.3)\n",
        "        # )\n",
        "\n",
        "        self.layerOp=nn.Sequential(\n",
        "            nn.Linear(512,op),\n",
        "            nn.Sigmoid()\n",
        "        )\n",
        "    \n",
        "    def forward(self,x):\n",
        "        x=self.layer1(x)\n",
        "        x=self.layer2(x)\n",
        "        # x=self.layer3(x)\n",
        "        x=self.layerOp(x)\n",
        "        return x"
      ],
      "execution_count": 0,
      "outputs": []
    },
    {
      "cell_type": "code",
      "metadata": {
        "id": "KnpbIbvO6iK3",
        "colab_type": "code",
        "colab": {}
      },
      "source": [
        "class generator(nn.Module):\n",
        "    def __init__(self):\n",
        "        super(generator,self).__init__()\n",
        "        ip=100\n",
        "        op=784\n",
        "\n",
        "        self.layer1=nn.Sequential(\n",
        "            nn.Linear(ip,256),\n",
        "            nn.LeakyReLU()\n",
        "        )\n",
        "\n",
        "        self.layer2=nn.Sequential(\n",
        "            nn.Linear(256,512),\n",
        "            nn.LeakyReLU()\n",
        "        )\n",
        "\n",
        "        # self.layer3=nn.Sequential(\n",
        "        #     nn.Linear(512,1024),\n",
        "        #     nn.LeakyReLU()\n",
        "        # )\n",
        "\n",
        "        self.layerOp=nn.Sequential(\n",
        "            nn.Linear(512,op),\n",
        "            nn.Tanh()\n",
        "        )\n",
        "\n",
        "    def forward(self,x):\n",
        "        x=self.layer1(x)\n",
        "        x=self.layer2(x)\n",
        "        # x=self.layer3(x)\n",
        "        x=self.layerOp(x)\n",
        "        return x       "
      ],
      "execution_count": 0,
      "outputs": []
    },
    {
      "cell_type": "code",
      "metadata": {
        "id": "KlqkuZvD8i27",
        "colab_type": "code",
        "colab": {}
      },
      "source": [
        "discriminatorNet=discriminator()\n",
        "generatorNet=generator()\n",
        "# if torch.cuda.is_available():\n",
        "#     discriminatorNet.cuda()\n",
        "#     generatorNet.cuda()\n",
        "optimizer_d = torch.optim.Adam(discriminatorNet.parameters(), lr=0.0002)\n",
        "optimizer_g = torch.optim.Adam(generatorNet.parameters(), lr=0.0002)\n",
        "loss=nn.BCELoss()"
      ],
      "execution_count": 0,
      "outputs": []
    },
    {
      "cell_type": "code",
      "metadata": {
        "id": "kLGzcPOpDtig",
        "colab_type": "code",
        "colab": {}
      },
      "source": [
        "def ones_target(size):\n",
        "    data = Variable(torch.ones(size, 1)).to(device)\n",
        "    return data\n",
        "\n",
        "def zeros_target(size):\n",
        "    data = Variable(torch.zeros(size, 1)).to(device)\n",
        "    return data"
      ],
      "execution_count": 0,
      "outputs": []
    },
    {
      "cell_type": "code",
      "metadata": {
        "id": "huagClWgCcYj",
        "colab_type": "code",
        "colab": {}
      },
      "source": [
        "def trainDiscriminator(real_data, generated_data, optimizer):\n",
        "    N=real_data.size(0)\n",
        "    optimizer.zero_grad()\n",
        "\n",
        "    ### real data\n",
        "    opReal=discriminatorNet(real_data).to(device)\n",
        "    errorR= loss(opReal,ones_target(N)).to(device)\n",
        "    errorR.backward(retain_graph=True)\n",
        "    # print('opR ',opReal)\n",
        "    # optimizer.step()\n",
        "\n",
        "    ### generated data\n",
        "    opGen=discriminatorNet(generated_data).to(device)\n",
        "    errorG= loss(opGen,zeros_target(N)).to(device)\n",
        "    errorG.backward()\n",
        "    # print('opG ',opGen)\n",
        "\n",
        "    optimizer.step()\n",
        "    return errorR+errorG, opReal, opGen "
      ],
      "execution_count": 0,
      "outputs": []
    },
    {
      "cell_type": "code",
      "metadata": {
        "id": "NR9BRFE7EnDF",
        "colab_type": "code",
        "colab": {}
      },
      "source": [
        "def trainGenerator(optimizer, noise):\n",
        "    N=noise.size(0)\n",
        "    optimizer.zero_grad()\n",
        "    generatedData=generatorNet(noise)\n",
        "    op=discriminatorNet(generatedData).to(device)\n",
        "    error=loss(op,ones_target(N)).to(device)\n",
        "    error.backward()\n",
        "\n",
        "    optimizer.step()\n",
        "    return error"
      ],
      "execution_count": 0,
      "outputs": []
    },
    {
      "cell_type": "code",
      "metadata": {
        "id": "yLOuqQqhJGGn",
        "colab_type": "code",
        "colab": {}
      },
      "source": [
        "def images_to_vectors(images):\n",
        "    return images.view(images.size(0), 784)\n",
        "\n",
        "def vectors_to_images(vectors):\n",
        "    return vectors.view(28, 28)"
      ],
      "execution_count": 0,
      "outputs": []
    },
    {
      "cell_type": "code",
      "metadata": {
        "id": "s81q6hrIYZe7",
        "colab_type": "code",
        "colab": {}
      },
      "source": [
        "# print(train)"
      ],
      "execution_count": 0,
      "outputs": []
    },
    {
      "cell_type": "code",
      "metadata": {
        "id": "cXJBUAG4-Za7",
        "colab_type": "code",
        "colab": {
          "base_uri": "https://localhost:8080/",
          "height": 1000
        },
        "outputId": "3771e8e2-90fb-4010-8c8d-3dec630ed635"
      },
      "source": [
        "epochs=201\n",
        "op=[]\n",
        "# logger = Logger(model_name='VGAN', data_name='MNIST')\n",
        "device = torch.device(\"cuda\" if torch.cuda.is_available() else \"cpu\")\n",
        "generatorNet=generatorNet.to(device)\n",
        "discriminatorNet=discriminatorNet.to(device)\n",
        "randtest=Variable(torch.randn(1, 100)).to(device)\n",
        "totalGerr=0\n",
        "totalDerr=0\n",
        "for epoch in range(epochs):\n",
        "    print(epoch)\n",
        "    totalGerr=0\n",
        "    totalDerr=0\n",
        "    for n_batch, (real_batch,_) in enumerate(train_batch):\n",
        "        # n_batch=n_batch.to(device)\n",
        "        real_batch=real_batch.to(device)\n",
        "        N=real_batch.size(0)\n",
        "\n",
        "        # print('Discriminator part')\n",
        "        real_data = Variable(images_to_vectors(real_batch))\n",
        "        rand=Variable(torch.randn(N, 100)).to(device)\n",
        "        gen=generatorNet(rand).detach()\n",
        "        # op=vectors_to_images(gen)\n",
        "        # print(op.shape)\n",
        "        # plt.imshow(op)\n",
        "        # plt.show()\n",
        "        gen=gen.to(device)\n",
        "        d_error, d_pred_real, d_pred_fake = trainDiscriminator(real_data, gen, optimizer_d)\n",
        "        totalDerr=totalDerr+d_error\n",
        "\n",
        "        # print('Generator Part')\n",
        "        noise=Variable(torch.randn(N, 100)).to(device)\n",
        "        g_error = trainGenerator(optimizer_g, noise).to(device)\n",
        "        totalGerr=totalGerr+g_error\n",
        "        \n",
        "\n",
        "    if epoch%10==0:\n",
        "        op=generatorNet(randtest).detach()\n",
        "        print(op.shape)\n",
        "        op=vectors_to_images(op)\n",
        "        op=op.cpu().detach().numpy()\n",
        "        plt.imshow(op,cmap='gray')\n",
        "        plt.show()\n",
        "    print('epoch G error: ',totalGerr)\n",
        "    print('epoch D error: ',totalDerr)\n",
        "    # real_batch=real_batch.detach()\n",
        "    #     break.to(device)\n",
        "    # break"
      ],
      "execution_count": 737,
      "outputs": [
        {
          "output_type": "stream",
          "text": [
            "0\n",
            "torch.Size([1, 784])\n"
          ],
          "name": "stdout"
        },
        {
          "output_type": "display_data",
          "data": {
            "image/png": "[encoded data removed]",
            "text/plain": [
              "<Figure size 432x288 with 1 Axes>"
            ]
          },
          "metadata": {
            "tags": []
          }
        },
        {
          "output_type": "stream",
          "text": [
            "epoch G error:  tensor(4099.8105, device='cuda:0', grad_fn=<AddBackward0>)\n",
            "epoch D error:  tensor(136.2561, device='cuda:0', grad_fn=<AddBackward0>)\n",
            "1\n",
            "epoch G error:  tensor(3209.1982, device='cuda:0', grad_fn=<AddBackward0>)\n",
            "epoch D error:  tensor(200.1898, device='cuda:0', grad_fn=<AddBackward0>)\n",
            "2\n",
            "epoch G error:  tensor(3884.0933, device='cuda:0', grad_fn=<AddBackward0>)\n",
            "epoch D error:  tensor(44.4466, device='cuda:0', grad_fn=<AddBackward0>)\n",
            "3\n",
            "epoch G error:  tensor(4631.1821, device='cuda:0', grad_fn=<AddBackward0>)\n",
            "epoch D error:  tensor(49.5584, device='cuda:0', grad_fn=<AddBackward0>)\n",
            "4\n",
            "epoch G error:  tensor(4460.9238, device='cuda:0', grad_fn=<AddBackward0>)\n",
            "epoch D error:  tensor(55.3508, device='cuda:0', grad_fn=<AddBackward0>)\n",
            "5\n",
            "epoch G error:  tensor(4006.9500, device='cuda:0', grad_fn=<AddBackward0>)\n",
            "epoch D error:  tensor(93.5863, device='cuda:0', grad_fn=<AddBackward0>)\n",
            "6\n",
            "epoch G error:  tensor(4254.0171, device='cuda:0', grad_fn=<AddBackward0>)\n",
            "epoch D error:  tensor(85.6681, device='cuda:0', grad_fn=<AddBackward0>)\n",
            "7\n",
            "epoch G error:  tensor(3902.2046, device='cuda:0', grad_fn=<AddBackward0>)\n",
            "epoch D error:  tensor(104.5079, device='cuda:0', grad_fn=<AddBackward0>)\n",
            "8\n",
            "epoch G error:  tensor(3741.1902, device='cuda:0', grad_fn=<AddBackward0>)\n",
            "epoch D error:  tensor(132.8340, device='cuda:0', grad_fn=<AddBackward0>)\n",
            "9\n",
            "epoch G error:  tensor(2915.4524, device='cuda:0', grad_fn=<AddBackward0>)\n",
            "epoch D error:  tensor(191.3199, device='cuda:0', grad_fn=<AddBackward0>)\n",
            "10\n",
            "torch.Size([1, 784])\n"
          ],
          "name": "stdout"
        },
        {
          "output_type": "display_data",
          "data": {
            "image/png": "[encoded data removed]",
            "text/plain": [
              "<Figure size 432x288 with 1 Axes>"
            ]
          },
          "metadata": {
            "tags": []
          }
        },
        {
          "output_type": "stream",
          "text": [
            "epoch G error:  tensor(2661.3308, device='cuda:0', grad_fn=<AddBackward0>)\n",
            "epoch D error:  tensor(204.9459, device='cuda:0', grad_fn=<AddBackward0>)\n",
            "11\n",
            "epoch G error:  tensor(2411.8743, device='cuda:0', grad_fn=<AddBackward0>)\n",
            "epoch D error:  tensor(237.7792, device='cuda:0', grad_fn=<AddBackward0>)\n",
            "12\n",
            "epoch G error:  tensor(2151.1272, device='cuda:0', grad_fn=<AddBackward0>)\n",
            "epoch D error:  tensor(264.2927, device='cuda:0', grad_fn=<AddBackward0>)\n",
            "13\n",
            "epoch G error:  tensor(1994.7496, device='cuda:0', grad_fn=<AddBackward0>)\n",
            "epoch D error:  tensor(295.6082, device='cuda:0', grad_fn=<AddBackward0>)\n",
            "14\n",
            "epoch G error:  tensor(1940.4401, device='cuda:0', grad_fn=<AddBackward0>)\n",
            "epoch D error:  tensor(285.5311, device='cuda:0', grad_fn=<AddBackward0>)\n",
            "15\n",
            "epoch G error:  tensor(1829.4910, device='cuda:0', grad_fn=<AddBackward0>)\n",
            "epoch D error:  tensor(316.8969, device='cuda:0', grad_fn=<AddBackward0>)\n",
            "16\n",
            "epoch G error:  tensor(1810.0577, device='cuda:0', grad_fn=<AddBackward0>)\n",
            "epoch D error:  tensor(322.9641, device='cuda:0', grad_fn=<AddBackward0>)\n",
            "17\n",
            "epoch G error:  tensor(1779.9305, device='cuda:0', grad_fn=<AddBackward0>)\n",
            "epoch D error:  tensor(341.5664, device='cuda:0', grad_fn=<AddBackward0>)\n",
            "18\n",
            "epoch G error:  tensor(1758.4535, device='cuda:0', grad_fn=<AddBackward0>)\n",
            "epoch D error:  tensor(351.5437, device='cuda:0', grad_fn=<AddBackward0>)\n",
            "19\n",
            "epoch G error:  tensor(1638.3984, device='cuda:0', grad_fn=<AddBackward0>)\n",
            "epoch D error:  tensor(369.5827, device='cuda:0', grad_fn=<AddBackward0>)\n",
            "20\n",
            "torch.Size([1, 784])\n"
          ],
          "name": "stdout"
        },
        {
          "output_type": "display_data",
          "data": {
            "image/png": "[encoded data removed]",
            "text/plain": [
              "<Figure size 432x288 with 1 Axes>"
            ]
          },
          "metadata": {
            "tags": []
          }
        },
        {
          "output_type": "stream",
          "text": [
            "epoch G error:  tensor(1650.7792, device='cuda:0', grad_fn=<AddBackward0>)\n",
            "epoch D error:  tensor(387.4605, device='cuda:0', grad_fn=<AddBackward0>)\n",
            "21\n",
            "epoch G error:  tensor(1574.5553, device='cuda:0', grad_fn=<AddBackward0>)\n",
            "epoch D error:  tensor(404.6288, device='cuda:0', grad_fn=<AddBackward0>)\n",
            "22\n",
            "epoch G error:  tensor(1525.5907, device='cuda:0', grad_fn=<AddBackward0>)\n",
            "epoch D error:  tensor(417.9777, device='cuda:0', grad_fn=<AddBackward0>)\n",
            "23\n",
            "epoch G error:  tensor(1445.9907, device='cuda:0', grad_fn=<AddBackward0>)\n",
            "epoch D error:  tensor(441.7270, device='cuda:0', grad_fn=<AddBackward0>)\n",
            "24\n",
            "epoch G error:  tensor(1384.8573, device='cuda:0', grad_fn=<AddBackward0>)\n",
            "epoch D error:  tensor(458.9467, device='cuda:0', grad_fn=<AddBackward0>)\n",
            "25\n",
            "epoch G error:  tensor(1323.5067, device='cuda:0', grad_fn=<AddBackward0>)\n",
            "epoch D error:  tensor(467.5272, device='cuda:0', grad_fn=<AddBackward0>)\n",
            "26\n",
            "epoch G error:  tensor(1352.0510, device='cuda:0', grad_fn=<AddBackward0>)\n",
            "epoch D error:  tensor(492.6513, device='cuda:0', grad_fn=<AddBackward0>)\n",
            "27\n",
            "epoch G error:  tensor(1313.3053, device='cuda:0', grad_fn=<AddBackward0>)\n",
            "epoch D error:  tensor(503.0428, device='cuda:0', grad_fn=<AddBackward0>)\n",
            "28\n",
            "epoch G error:  tensor(1287.6483, device='cuda:0', grad_fn=<AddBackward0>)\n",
            "epoch D error:  tensor(513.5743, device='cuda:0', grad_fn=<AddBackward0>)\n",
            "29\n",
            "epoch G error:  tensor(1324.1735, device='cuda:0', grad_fn=<AddBackward0>)\n",
            "epoch D error:  tensor(510.3089, device='cuda:0', grad_fn=<AddBackward0>)\n",
            "30\n",
            "torch.Size([1, 784])\n"
          ],
          "name": "stdout"
        },
        {
          "output_type": "display_data",
          "data": {
            "image/png": "[encoded data removed]",
            "text/plain": [
              "<Figure size 432x288 with 1 Axes>"
            ]
          },
          "metadata": {
            "tags": []
          }
        },
        {
          "output_type": "stream",
          "text": [
            "epoch G error:  tensor(1217.3755, device='cuda:0', grad_fn=<AddBackward0>)\n",
            "epoch D error:  tensor(531.0172, device='cuda:0', grad_fn=<AddBackward0>)\n",
            "31\n",
            "epoch G error:  tensor(1231.3203, device='cuda:0', grad_fn=<AddBackward0>)\n",
            "epoch D error:  tensor(541.4201, device='cuda:0', grad_fn=<AddBackward0>)\n",
            "32\n",
            "epoch G error:  tensor(1236.8634, device='cuda:0', grad_fn=<AddBackward0>)\n",
            "epoch D error:  tensor(549.8857, device='cuda:0', grad_fn=<AddBackward0>)\n",
            "33\n",
            "epoch G error:  tensor(1187.7908, device='cuda:0', grad_fn=<AddBackward0>)\n",
            "epoch D error:  tensor(552.7017, device='cuda:0', grad_fn=<AddBackward0>)\n",
            "34\n",
            "epoch G error:  tensor(1163.1470, device='cuda:0', grad_fn=<AddBackward0>)\n",
            "epoch D error:  tensor(561.4727, device='cuda:0', grad_fn=<AddBackward0>)\n",
            "35\n",
            "epoch G error:  tensor(1177.9150, device='cuda:0', grad_fn=<AddBackward0>)\n",
            "epoch D error:  tensor(565.6895, device='cuda:0', grad_fn=<AddBackward0>)\n",
            "36\n",
            "epoch G error:  tensor(1095.9104, device='cuda:0', grad_fn=<AddBackward0>)\n",
            "epoch D error:  tensor(566.1093, device='cuda:0', grad_fn=<AddBackward0>)\n",
            "37\n",
            "epoch G error:  tensor(1199.3884, device='cuda:0', grad_fn=<AddBackward0>)\n",
            "epoch D error:  tensor(580.3500, device='cuda:0', grad_fn=<AddBackward0>)\n",
            "38\n",
            "epoch G error:  tensor(1088.5302, device='cuda:0', grad_fn=<AddBackward0>)\n",
            "epoch D error:  tensor(588.9951, device='cuda:0', grad_fn=<AddBackward0>)\n",
            "39\n",
            "epoch G error:  tensor(1050.9117, device='cuda:0', grad_fn=<AddBackward0>)\n",
            "epoch D error:  tensor(596.3958, device='cuda:0', grad_fn=<AddBackward0>)\n",
            "40\n",
            "torch.Size([1, 784])\n"
          ],
          "name": "stdout"
        },
        {
          "output_type": "display_data",
          "data": {
            "image/png": "[encoded data removed]",
            "text/plain": [
              "<Figure size 432x288 with 1 Axes>"
            ]
          },
          "metadata": {
            "tags": []
          }
        },
        {
          "output_type": "stream",
          "text": [
            "epoch G error:  tensor(1106.6847, device='cuda:0', grad_fn=<AddBackward0>)\n",
            "epoch D error:  tensor(601.6746, device='cuda:0', grad_fn=<AddBackward0>)\n",
            "41\n",
            "epoch G error:  tensor(1036.9064, device='cuda:0', grad_fn=<AddBackward0>)\n",
            "epoch D error:  tensor(606.4766, device='cuda:0', grad_fn=<AddBackward0>)\n",
            "42\n",
            "epoch G error:  tensor(1047.4539, device='cuda:0', grad_fn=<AddBackward0>)\n",
            "epoch D error:  tensor(604.8654, device='cuda:0', grad_fn=<AddBackward0>)\n",
            "43\n",
            "epoch G error:  tensor(1025.6743, device='cuda:0', grad_fn=<AddBackward0>)\n",
            "epoch D error:  tensor(618.1954, device='cuda:0', grad_fn=<AddBackward0>)\n",
            "44\n",
            "epoch G error:  tensor(1008.7352, device='cuda:0', grad_fn=<AddBackward0>)\n",
            "epoch D error:  tensor(624.1783, device='cuda:0', grad_fn=<AddBackward0>)\n",
            "46\n",
            "epoch G error:  tensor(975.8430, device='cuda:0', grad_fn=<AddBackward0>)\n",
            "epoch D error:  tensor(626.8040, device='cuda:0', grad_fn=<AddBackward0>)\n",
            "47\n",
            "epoch G error:  tensor(970.8773, device='cuda:0', grad_fn=<AddBackward0>)\n",
            "epoch D error:  tensor(642.0922, device='cuda:0', grad_fn=<AddBackward0>)\n",
            "48\n",
            "epoch G error:  tensor(1009.6907, device='cuda:0', grad_fn=<AddBackward0>)\n",
            "epoch D error:  tensor(654.7745, device='cuda:0', grad_fn=<AddBackward0>)\n",
            "49\n",
            "epoch G error:  tensor(976.4154, device='cuda:0', grad_fn=<AddBackward0>)\n",
            "epoch D error:  tensor(653.7540, device='cuda:0', grad_fn=<AddBackward0>)\n",
            "50\n",
            "torch.Size([1, 784])\n"
          ],
          "name": "stdout"
        },
        {
          "output_type": "display_data",
          "data": {
            "image/png": "[encoded data removed]",
            "text/plain": [
              "<Figure size 432x288 with 1 Axes>"
            ]
          },
          "metadata": {
            "tags": []
          }
        },
        {
          "output_type": "stream",
          "text": [
            "epoch G error:  tensor(939.9164, device='cuda:0', grad_fn=<AddBackward0>)\n",
            "epoch D error:  tensor(652.7667, device='cuda:0', grad_fn=<AddBackward0>)\n",
            "51\n",
            "epoch G error:  tensor(962.1855, device='cuda:0', grad_fn=<AddBackward0>)\n",
            "epoch D error:  tensor(669.5606, device='cuda:0', grad_fn=<AddBackward0>)\n",
            "52\n",
            "epoch G error:  tensor(948.4628, device='cuda:0', grad_fn=<AddBackward0>)\n",
            "epoch D error:  tensor(677.9225, device='cuda:0', grad_fn=<AddBackward0>)\n",
            "53\n",
            "epoch G error:  tensor(913.8552, device='cuda:0', grad_fn=<AddBackward0>)\n",
            "epoch D error:  tensor(663.7902, device='cuda:0', grad_fn=<AddBackward0>)\n",
            "54\n",
            "epoch G error:  tensor(914.4098, device='cuda:0', grad_fn=<AddBackward0>)\n",
            "epoch D error:  tensor(665.0555, device='cuda:0', grad_fn=<AddBackward0>)\n",
            "55\n",
            "epoch G error:  tensor(914.5329, device='cuda:0', grad_fn=<AddBackward0>)\n",
            "epoch D error:  tensor(675.6090, device='cuda:0', grad_fn=<AddBackward0>)\n",
            "56\n",
            "epoch G error:  tensor(890.8172, device='cuda:0', grad_fn=<AddBackward0>)\n",
            "epoch D error:  tensor(674.9268, device='cuda:0', grad_fn=<AddBackward0>)\n",
            "57\n",
            "epoch G error:  tensor(919.1663, device='cuda:0', grad_fn=<AddBackward0>)\n",
            "epoch D error:  tensor(700.5742, device='cuda:0', grad_fn=<AddBackward0>)\n",
            "58\n",
            "epoch G error:  tensor(876.4124, device='cuda:0', grad_fn=<AddBackward0>)\n",
            "epoch D error:  tensor(676.3934, device='cuda:0', grad_fn=<AddBackward0>)\n",
            "59\n",
            "epoch G error:  tensor(875.8030, device='cuda:0', grad_fn=<AddBackward0>)\n",
            "epoch D error:  tensor(690.3210, device='cuda:0', grad_fn=<AddBackward0>)\n",
            "60\n",
            "torch.Size([1, 784])\n"
          ],
          "name": "stdout"
        },
        {
          "output_type": "display_data",
          "data": {
            "image/png": "[encoded data removed]",
            "text/plain": [
              "<Figure size 432x288 with 1 Axes>"
            ]
          },
          "metadata": {
            "tags": []
          }
        },
        {
          "output_type": "stream",
          "text": [
            "epoch G error:  tensor(888.9088, device='cuda:0', grad_fn=<AddBackward0>)\n",
            "epoch D error:  tensor(693.7822, device='cuda:0', grad_fn=<AddBackward0>)\n",
            "61\n",
            "epoch G error:  tensor(879.8328, device='cuda:0', grad_fn=<AddBackward0>)\n",
            "epoch D error:  tensor(691.5709, device='cuda:0', grad_fn=<AddBackward0>)\n",
            "62\n",
            "epoch G error:  tensor(871.7390, device='cuda:0', grad_fn=<AddBackward0>)\n",
            "epoch D error:  tensor(705.8727, device='cuda:0', grad_fn=<AddBackward0>)\n",
            "63\n",
            "epoch G error:  tensor(838.1332, device='cuda:0', grad_fn=<AddBackward0>)\n",
            "epoch D error:  tensor(707.0526, device='cuda:0', grad_fn=<AddBackward0>)\n",
            "64\n",
            "epoch G error:  tensor(853.3397, device='cuda:0', grad_fn=<AddBackward0>)\n",
            "epoch D error:  tensor(717.2963, device='cuda:0', grad_fn=<AddBackward0>)\n",
            "65\n",
            "epoch G error:  tensor(828.9338, device='cuda:0', grad_fn=<AddBackward0>)\n",
            "epoch D error:  tensor(705.0017, device='cuda:0', grad_fn=<AddBackward0>)\n",
            "66\n",
            "epoch G error:  tensor(875.4370, device='cuda:0', grad_fn=<AddBackward0>)\n",
            "epoch D error:  tensor(726.8532, device='cuda:0', grad_fn=<AddBackward0>)\n",
            "67\n",
            "epoch G error:  tensor(864.3399, device='cuda:0', grad_fn=<AddBackward0>)\n",
            "epoch D error:  tensor(722.8678, device='cuda:0', grad_fn=<AddBackward0>)\n",
            "68\n",
            "epoch G error:  tensor(817.5975, device='cuda:0', grad_fn=<AddBackward0>)\n",
            "epoch D error:  tensor(711.8960, device='cuda:0', grad_fn=<AddBackward0>)\n",
            "69\n",
            "epoch G error:  tensor(825.6759, device='cuda:0', grad_fn=<AddBackward0>)\n",
            "epoch D error:  tensor(717.3452, device='cuda:0', grad_fn=<AddBackward0>)\n",
            "70\n",
            "torch.Size([1, 784])\n"
          ],
          "name": "stdout"
        },
        {
          "output_type": "display_data",
          "data": {
            "image/png": "[encoded data removed]",
            "text/plain": [
              "<Figure size 432x288 with 1 Axes>"
            ]
          },
          "metadata": {
            "tags": []
          }
        },
        {
          "output_type": "stream",
          "text": [
            "epoch G error:  tensor(810.2072, device='cuda:0', grad_fn=<AddBackward0>)\n",
            "epoch D error:  tensor(713.8439, device='cuda:0', grad_fn=<AddBackward0>)\n",
            "71\n",
            "epoch G error:  tensor(824.6918, device='cuda:0', grad_fn=<AddBackward0>)\n",
            "epoch D error:  tensor(716.9636, device='cuda:0', grad_fn=<AddBackward0>)\n",
            "72\n",
            "epoch G error:  tensor(874.9891, device='cuda:0', grad_fn=<AddBackward0>)\n",
            "epoch D error:  tensor(730.9847, device='cuda:0', grad_fn=<AddBackward0>)\n",
            "73\n",
            "epoch G error:  tensor(808.9926, device='cuda:0', grad_fn=<AddBackward0>)\n",
            "epoch D error:  tensor(728.1665, device='cuda:0', grad_fn=<AddBackward0>)\n",
            "74\n",
            "epoch G error:  tensor(810.4306, device='cuda:0', grad_fn=<AddBackward0>)\n",
            "epoch D error:  tensor(732.6827, device='cuda:0', grad_fn=<AddBackward0>)\n",
            "75\n",
            "epoch G error:  tensor(790.1287, device='cuda:0', grad_fn=<AddBackward0>)\n",
            "epoch D error:  tensor(721.7675, device='cuda:0', grad_fn=<AddBackward0>)\n",
            "76\n",
            "epoch G error:  tensor(797.7210, device='cuda:0', grad_fn=<AddBackward0>)\n",
            "epoch D error:  tensor(719.4495, device='cuda:0', grad_fn=<AddBackward0>)\n",
            "77\n",
            "epoch G error:  tensor(830.0134, device='cuda:0', grad_fn=<AddBackward0>)\n",
            "epoch D error:  tensor(747.8383, device='cuda:0', grad_fn=<AddBackward0>)\n",
            "78\n",
            "epoch G error:  tensor(789.5486, device='cuda:0', grad_fn=<AddBackward0>)\n",
            "epoch D error:  tensor(732.1583, device='cuda:0', grad_fn=<AddBackward0>)\n",
            "79\n",
            "epoch G error:  tensor(802.9307, device='cuda:0', grad_fn=<AddBackward0>)\n",
            "epoch D error:  tensor(730.4065, device='cuda:0', grad_fn=<AddBackward0>)\n",
            "80\n",
            "torch.Size([1, 784])\n"
          ],
          "name": "stdout"
        },
        {
          "output_type": "display_data",
          "data": {
            "image/png": "[encoded data removed]",
            "text/plain": [
              "<Figure size 432x288 with 1 Axes>"
            ]
          },
          "metadata": {
            "tags": []
          }
        },
        {
          "output_type": "stream",
          "text": [
            "epoch G error:  tensor(792.1413, device='cuda:0', grad_fn=<AddBackward0>)\n",
            "epoch D error:  tensor(736.2106, device='cuda:0', grad_fn=<AddBackward0>)\n",
            "81\n",
            "epoch G error:  tensor(808.5378, device='cuda:0', grad_fn=<AddBackward0>)\n",
            "epoch D error:  tensor(745.9615, device='cuda:0', grad_fn=<AddBackward0>)\n",
            "82\n",
            "epoch G error:  tensor(777.3633, device='cuda:0', grad_fn=<AddBackward0>)\n",
            "epoch D error:  tensor(741.8528, device='cuda:0', grad_fn=<AddBackward0>)\n",
            "83\n",
            "epoch G error:  tensor(797.0438, device='cuda:0', grad_fn=<AddBackward0>)\n",
            "epoch D error:  tensor(741.2715, device='cuda:0', grad_fn=<AddBackward0>)\n",
            "84\n",
            "epoch G error:  tensor(776.7355, device='cuda:0', grad_fn=<AddBackward0>)\n",
            "epoch D error:  tensor(736.5249, device='cuda:0', grad_fn=<AddBackward0>)\n",
            "85\n",
            "epoch G error:  tensor(783.6652, device='cuda:0', grad_fn=<AddBackward0>)\n",
            "epoch D error:  tensor(742.2541, device='cuda:0', grad_fn=<AddBackward0>)\n",
            "86\n",
            "epoch G error:  tensor(779.6203, device='cuda:0', grad_fn=<AddBackward0>)\n",
            "epoch D error:  tensor(747.2318, device='cuda:0', grad_fn=<AddBackward0>)\n",
            "87\n",
            "epoch G error:  tensor(786.5254, device='cuda:0', grad_fn=<AddBackward0>)\n",
            "epoch D error:  tensor(746.2230, device='cuda:0', grad_fn=<AddBackward0>)\n",
            "88\n",
            "epoch G error:  tensor(795.7579, device='cuda:0', grad_fn=<AddBackward0>)\n",
            "epoch D error:  tensor(752.4584, device='cuda:0', grad_fn=<AddBackward0>)\n",
            "89\n",
            "epoch G error:  tensor(770.4620, device='cuda:0', grad_fn=<AddBackward0>)\n",
            "epoch D error:  tensor(744.8628, device='cuda:0', grad_fn=<AddBackward0>)\n",
            "90\n",
            "torch.Size([1, 784])\n"
          ],
          "name": "stdout"
        },
        {
          "output_type": "display_data",
          "data": {
            "image/png": "[encoded data removed]",
            "text/plain": [
              "<Figure size 432x288 with 1 Axes>"
            ]
          },
          "metadata": {
            "tags": []
          }
        },
        {
          "output_type": "stream",
          "text": [
            "epoch G error:  tensor(766.3990, device='cuda:0', grad_fn=<AddBackward0>)\n",
            "epoch D error:  tensor(751.1129, device='cuda:0', grad_fn=<AddBackward0>)\n",
            "91\n",
            "epoch G error:  tensor(783.6418, device='cuda:0', grad_fn=<AddBackward0>)\n",
            "epoch D error:  tensor(760.4876, device='cuda:0', grad_fn=<AddBackward0>)\n",
            "92\n",
            "epoch G error:  tensor(759.6566, device='cuda:0', grad_fn=<AddBackward0>)\n",
            "epoch D error:  tensor(743.6525, device='cuda:0', grad_fn=<AddBackward0>)\n",
            "93\n",
            "epoch G error:  tensor(783.3192, device='cuda:0', grad_fn=<AddBackward0>)\n",
            "epoch D error:  tensor(748.3851, device='cuda:0', grad_fn=<AddBackward0>)\n",
            "94\n",
            "epoch G error:  tensor(768.2311, device='cuda:0', grad_fn=<AddBackward0>)\n",
            "epoch D error:  tensor(742.2562, device='cuda:0', grad_fn=<AddBackward0>)\n",
            "95\n",
            "epoch G error:  tensor(782.2970, device='cuda:0', grad_fn=<AddBackward0>)\n",
            "epoch D error:  tensor(745.1146, device='cuda:0', grad_fn=<AddBackward0>)\n",
            "96\n",
            "epoch G error:  tensor(772.7074, device='cuda:0', grad_fn=<AddBackward0>)\n",
            "epoch D error:  tensor(742.8697, device='cuda:0', grad_fn=<AddBackward0>)\n",
            "97\n",
            "epoch G error:  tensor(777.1674, device='cuda:0', grad_fn=<AddBackward0>)\n",
            "epoch D error:  tensor(744.4918, device='cuda:0', grad_fn=<AddBackward0>)\n",
            "98\n",
            "epoch G error:  tensor(784.9855, device='cuda:0', grad_fn=<AddBackward0>)\n",
            "epoch D error:  tensor(749.2685, device='cuda:0', grad_fn=<AddBackward0>)\n",
            "99\n",
            "epoch G error:  tensor(765.0096, device='cuda:0', grad_fn=<AddBackward0>)\n",
            "epoch D error:  tensor(750.6801, device='cuda:0', grad_fn=<AddBackward0>)\n",
            "100\n",
            "torch.Size([1, 784])\n"
          ],
          "name": "stdout"
        },
        {
          "output_type": "display_data",
          "data": {
            "image/png": "[encoded data removed]",
            "text/plain": [
              "<Figure size 432x288 with 1 Axes>"
            ]
          },
          "metadata": {
            "tags": []
          }
        },
        {
          "output_type": "stream",
          "text": [
            "epoch G error:  tensor(771.8975, device='cuda:0', grad_fn=<AddBackward0>)\n",
            "epoch D error:  tensor(749.1898, device='cuda:0', grad_fn=<AddBackward0>)\n",
            "101\n",
            "epoch G error:  tensor(756.2025, device='cuda:0', grad_fn=<AddBackward0>)\n",
            "epoch D error:  tensor(748.4950, device='cuda:0', grad_fn=<AddBackward0>)\n",
            "102\n",
            "epoch G error:  tensor(761.0464, device='cuda:0', grad_fn=<AddBackward0>)\n",
            "epoch D error:  tensor(762.4078, device='cuda:0', grad_fn=<AddBackward0>)\n",
            "103\n",
            "epoch G error:  tensor(755.3760, device='cuda:0', grad_fn=<AddBackward0>)\n",
            "epoch D error:  tensor(756.9257, device='cuda:0', grad_fn=<AddBackward0>)\n",
            "104\n",
            "epoch G error:  tensor(757.2030, device='cuda:0', grad_fn=<AddBackward0>)\n",
            "epoch D error:  tensor(746.9227, device='cuda:0', grad_fn=<AddBackward0>)\n",
            "105\n",
            "epoch G error:  tensor(754.8463, device='cuda:0', grad_fn=<AddBackward0>)\n",
            "epoch D error:  tensor(756.9124, device='cuda:0', grad_fn=<AddBackward0>)\n",
            "106\n",
            "epoch G error:  tensor(762.5771, device='cuda:0', grad_fn=<AddBackward0>)\n",
            "epoch D error:  tensor(758.9509, device='cuda:0', grad_fn=<AddBackward0>)\n",
            "107\n",
            "epoch G error:  tensor(756.9379, device='cuda:0', grad_fn=<AddBackward0>)\n",
            "epoch D error:  tensor(753.7262, device='cuda:0', grad_fn=<AddBackward0>)\n",
            "108\n",
            "epoch G error:  tensor(768.2825, device='cuda:0', grad_fn=<AddBackward0>)\n",
            "epoch D error:  tensor(759.0969, device='cuda:0', grad_fn=<AddBackward0>)\n",
            "109\n",
            "epoch G error:  tensor(739.7825, device='cuda:0', grad_fn=<AddBackward0>)\n",
            "epoch D error:  tensor(769.0728, device='cuda:0', grad_fn=<AddBackward0>)\n",
            "110\n",
            "torch.Size([1, 784])\n"
          ],
          "name": "stdout"
        },
        {
          "output_type": "display_data",
          "data": {
            "image/png": "[encoded data removed]",
            "text/plain": [
              "<Figure size 432x288 with 1 Axes>"
            ]
          },
          "metadata": {
            "tags": []
          }
        },
        {
          "output_type": "stream",
          "text": [
            "epoch G error:  tensor(748.4055, device='cuda:0', grad_fn=<AddBackward0>)\n",
            "epoch D error:  tensor(756.8632, device='cuda:0', grad_fn=<AddBackward0>)\n",
            "111\n",
            "epoch G error:  tensor(756.5888, device='cuda:0', grad_fn=<AddBackward0>)\n",
            "epoch D error:  tensor(762.0516, device='cuda:0', grad_fn=<AddBackward0>)\n",
            "112\n",
            "epoch G error:  tensor(741.2870, device='cuda:0', grad_fn=<AddBackward0>)\n",
            "epoch D error:  tensor(762.5950, device='cuda:0', grad_fn=<AddBackward0>)\n",
            "113\n",
            "epoch G error:  tensor(747.5984, device='cuda:0', grad_fn=<AddBackward0>)\n",
            "epoch D error:  tensor(757.7979, device='cuda:0', grad_fn=<AddBackward0>)\n",
            "114\n",
            "epoch G error:  tensor(769.3408, device='cuda:0', grad_fn=<AddBackward0>)\n",
            "epoch D error:  tensor(769.6586, device='cuda:0', grad_fn=<AddBackward0>)\n",
            "115\n",
            "epoch G error:  tensor(733.1008, device='cuda:0', grad_fn=<AddBackward0>)\n",
            "epoch D error:  tensor(761.1331, device='cuda:0', grad_fn=<AddBackward0>)\n",
            "116\n",
            "epoch G error:  tensor(751.9037, device='cuda:0', grad_fn=<AddBackward0>)\n",
            "epoch D error:  tensor(761.7971, device='cuda:0', grad_fn=<AddBackward0>)\n",
            "117\n",
            "epoch G error:  tensor(751.5261, device='cuda:0', grad_fn=<AddBackward0>)\n",
            "epoch D error:  tensor(759.5784, device='cuda:0', grad_fn=<AddBackward0>)\n",
            "118\n",
            "epoch G error:  tensor(741.8005, device='cuda:0', grad_fn=<AddBackward0>)\n",
            "epoch D error:  tensor(756.6447, device='cuda:0', grad_fn=<AddBackward0>)\n",
            "119\n",
            "epoch G error:  tensor(755.6002, device='cuda:0', grad_fn=<AddBackward0>)\n",
            "epoch D error:  tensor(761.2574, device='cuda:0', grad_fn=<AddBackward0>)\n",
            "120\n",
            "torch.Size([1, 784])\n"
          ],
          "name": "stdout"
        },
        {
          "output_type": "display_data",
          "data": {
            "image/png": "[encoded data removed]",
            "text/plain": [
              "<Figure size 432x288 with 1 Axes>"
            ]
          },
          "metadata": {
            "tags": []
          }
        },
        {
          "output_type": "stream",
          "text": [
            "epoch G error:  tensor(740.3535, device='cuda:0', grad_fn=<AddBackward0>)\n",
            "epoch D error:  tensor(760.6151, device='cuda:0', grad_fn=<AddBackward0>)\n",
            "121\n",
            "epoch G error:  tensor(748.7189, device='cuda:0', grad_fn=<AddBackward0>)\n",
            "epoch D error:  tensor(760.2443, device='cuda:0', grad_fn=<AddBackward0>)\n",
            "122\n",
            "epoch G error:  tensor(745.4764, device='cuda:0', grad_fn=<AddBackward0>)\n",
            "epoch D error:  tensor(761.5387, device='cuda:0', grad_fn=<AddBackward0>)\n",
            "123\n",
            "epoch G error:  tensor(746.3746, device='cuda:0', grad_fn=<AddBackward0>)\n",
            "epoch D error:  tensor(764.4199, device='cuda:0', grad_fn=<AddBackward0>)\n",
            "124\n",
            "epoch G error:  tensor(735.0984, device='cuda:0', grad_fn=<AddBackward0>)\n",
            "epoch D error:  tensor(762.8824, device='cuda:0', grad_fn=<AddBackward0>)\n",
            "125\n",
            "epoch G error:  tensor(749.0383, device='cuda:0', grad_fn=<AddBackward0>)\n",
            "epoch D error:  tensor(763.2264, device='cuda:0', grad_fn=<AddBackward0>)\n",
            "126\n",
            "epoch G error:  tensor(730.3691, device='cuda:0', grad_fn=<AddBackward0>)\n",
            "epoch D error:  tensor(763.6509, device='cuda:0', grad_fn=<AddBackward0>)\n",
            "127\n",
            "epoch G error:  tensor(742.7755, device='cuda:0', grad_fn=<AddBackward0>)\n",
            "epoch D error:  tensor(762.9510, device='cuda:0', grad_fn=<AddBackward0>)\n",
            "128\n",
            "epoch G error:  tensor(741.4386, device='cuda:0', grad_fn=<AddBackward0>)\n",
            "epoch D error:  tensor(775.3481, device='cuda:0', grad_fn=<AddBackward0>)\n",
            "129\n",
            "epoch G error:  tensor(732.0514, device='cuda:0', grad_fn=<AddBackward0>)\n",
            "epoch D error:  tensor(767.1959, device='cuda:0', grad_fn=<AddBackward0>)\n",
            "130\n",
            "torch.Size([1, 784])\n"
          ],
          "name": "stdout"
        },
        {
          "output_type": "display_data",
          "data": {
            "image/png": "[encoded data removed]",
            "text/plain": [
              "<Figure size 432x288 with 1 Axes>"
            ]
          },
          "metadata": {
            "tags": []
          }
        },
        {
          "output_type": "stream",
          "text": [
            "epoch G error:  tensor(738.5425, device='cuda:0', grad_fn=<AddBackward0>)\n",
            "epoch D error:  tensor(769.9861, device='cuda:0', grad_fn=<AddBackward0>)\n",
            "131\n",
            "epoch G error:  tensor(727.3084, device='cuda:0', grad_fn=<AddBackward0>)\n",
            "epoch D error:  tensor(765.0652, device='cuda:0', grad_fn=<AddBackward0>)\n",
            "132\n",
            "epoch G error:  tensor(737.8204, device='cuda:0', grad_fn=<AddBackward0>)\n",
            "epoch D error:  tensor(768.3135, device='cuda:0', grad_fn=<AddBackward0>)\n",
            "133\n",
            "epoch G error:  tensor(732.0084, device='cuda:0', grad_fn=<AddBackward0>)\n",
            "epoch D error:  tensor(770.3716, device='cuda:0', grad_fn=<AddBackward0>)\n",
            "134\n",
            "epoch G error:  tensor(732.8400, device='cuda:0', grad_fn=<AddBackward0>)\n",
            "epoch D error:  tensor(766.4480, device='cuda:0', grad_fn=<AddBackward0>)\n",
            "135\n",
            "epoch G error:  tensor(730.7740, device='cuda:0', grad_fn=<AddBackward0>)\n",
            "epoch D error:  tensor(765.8860, device='cuda:0', grad_fn=<AddBackward0>)\n",
            "136\n",
            "epoch G error:  tensor(731.9127, device='cuda:0', grad_fn=<AddBackward0>)\n",
            "epoch D error:  tensor(767.8163, device='cuda:0', grad_fn=<AddBackward0>)\n",
            "137\n",
            "epoch G error:  tensor(731.0582, device='cuda:0', grad_fn=<AddBackward0>)\n",
            "epoch D error:  tensor(770.9252, device='cuda:0', grad_fn=<AddBackward0>)\n",
            "138\n",
            "epoch G error:  tensor(731.0459, device='cuda:0', grad_fn=<AddBackward0>)\n",
            "epoch D error:  tensor(766.5515, device='cuda:0', grad_fn=<AddBackward0>)\n",
            "139\n",
            "epoch G error:  tensor(739.2051, device='cuda:0', grad_fn=<AddBackward0>)\n",
            "epoch D error:  tensor(775.9214, device='cuda:0', grad_fn=<AddBackward0>)\n",
            "140\n",
            "torch.Size([1, 784])\n"
          ],
          "name": "stdout"
        },
        {
          "output_type": "display_data",
          "data": {
            "image/png": "[encoded data removed]",
            "text/plain": [
              "<Figure size 432x288 with 1 Axes>"
            ]
          },
          "metadata": {
            "tags": []
          }
        },
        {
          "output_type": "stream",
          "text": [
            "epoch G error:  tensor(720.9020, device='cuda:0', grad_fn=<AddBackward0>)\n",
            "epoch D error:  tensor(774.1107, device='cuda:0', grad_fn=<AddBackward0>)\n",
            "141\n",
            "epoch G error:  tensor(721.8695, device='cuda:0', grad_fn=<AddBackward0>)\n",
            "epoch D error:  tensor(773.9553, device='cuda:0', grad_fn=<AddBackward0>)\n",
            "142\n",
            "epoch G error:  tensor(732.7838, device='cuda:0', grad_fn=<AddBackward0>)\n",
            "epoch D error:  tensor(776.3632, device='cuda:0', grad_fn=<AddBackward0>)\n",
            "143\n",
            "epoch G error:  tensor(717.4943, device='cuda:0', grad_fn=<AddBackward0>)\n",
            "epoch D error:  tensor(770.4380, device='cuda:0', grad_fn=<AddBackward0>)\n",
            "144\n",
            "epoch G error:  tensor(718.7549, device='cuda:0', grad_fn=<AddBackward0>)\n",
            "epoch D error:  tensor(772.9589, device='cuda:0', grad_fn=<AddBackward0>)\n",
            "145\n",
            "epoch G error:  tensor(721.0287, device='cuda:0', grad_fn=<AddBackward0>)\n",
            "epoch D error:  tensor(773.2056, device='cuda:0', grad_fn=<AddBackward0>)\n",
            "146\n",
            "epoch G error:  tensor(730.1831, device='cuda:0', grad_fn=<AddBackward0>)\n",
            "epoch D error:  tensor(773.8629, device='cuda:0', grad_fn=<AddBackward0>)\n",
            "147\n",
            "epoch G error:  tensor(726.5046, device='cuda:0', grad_fn=<AddBackward0>)\n",
            "epoch D error:  tensor(773.9456, device='cuda:0', grad_fn=<AddBackward0>)\n",
            "148\n",
            "epoch G error:  tensor(726.8270, device='cuda:0', grad_fn=<AddBackward0>)\n",
            "epoch D error:  tensor(771.2615, device='cuda:0', grad_fn=<AddBackward0>)\n",
            "149\n",
            "epoch G error:  tensor(716.7259, device='cuda:0', grad_fn=<AddBackward0>)\n",
            "epoch D error:  tensor(775.9964, device='cuda:0', grad_fn=<AddBackward0>)\n",
            "150\n",
            "torch.Size([1, 784])\n"
          ],
          "name": "stdout"
        },
        {
          "output_type": "display_data",
          "data": {
            "image/png": "[encoded data removed]",
            "text/plain": [
              "<Figure size 432x288 with 1 Axes>"
            ]
          },
          "metadata": {
            "tags": []
          }
        },
        {
          "output_type": "stream",
          "text": [
            "epoch G error:  tensor(719.9904, device='cuda:0', grad_fn=<AddBackward0>)\n",
            "epoch D error:  tensor(770.3511, device='cuda:0', grad_fn=<AddBackward0>)\n",
            "151\n",
            "epoch G error:  tensor(725.5337, device='cuda:0', grad_fn=<AddBackward0>)\n",
            "epoch D error:  tensor(769.4299, device='cuda:0', grad_fn=<AddBackward0>)\n",
            "152\n",
            "epoch G error:  tensor(726.9415, device='cuda:0', grad_fn=<AddBackward0>)\n",
            "epoch D error:  tensor(775.0985, device='cuda:0', grad_fn=<AddBackward0>)\n",
            "153\n",
            "epoch G error:  tensor(714.2928, device='cuda:0', grad_fn=<AddBackward0>)\n",
            "epoch D error:  tensor(780.7568, device='cuda:0', grad_fn=<AddBackward0>)\n",
            "154\n",
            "epoch G error:  tensor(715.7468, device='cuda:0', grad_fn=<AddBackward0>)\n",
            "epoch D error:  tensor(777.6710, device='cuda:0', grad_fn=<AddBackward0>)\n",
            "155\n",
            "epoch G error:  tensor(714.4095, device='cuda:0', grad_fn=<AddBackward0>)\n",
            "epoch D error:  tensor(776.1105, device='cuda:0', grad_fn=<AddBackward0>)\n",
            "156\n",
            "epoch G error:  tensor(724.2025, device='cuda:0', grad_fn=<AddBackward0>)\n",
            "epoch D error:  tensor(779.5113, device='cuda:0', grad_fn=<AddBackward0>)\n",
            "157\n",
            "epoch G error:  tensor(721.0090, device='cuda:0', grad_fn=<AddBackward0>)\n",
            "epoch D error:  tensor(774.3822, device='cuda:0', grad_fn=<AddBackward0>)\n",
            "158\n",
            "epoch G error:  tensor(718.9997, device='cuda:0', grad_fn=<AddBackward0>)\n",
            "epoch D error:  tensor(776.6915, device='cuda:0', grad_fn=<AddBackward0>)\n",
            "159\n",
            "epoch G error:  tensor(716.5844, device='cuda:0', grad_fn=<AddBackward0>)\n",
            "epoch D error:  tensor(773.8455, device='cuda:0', grad_fn=<AddBackward0>)\n",
            "160\n",
            "torch.Size([1, 784])\n"
          ],
          "name": "stdout"
        },
        {
          "output_type": "display_data",
          "data": {
            "image/png": "[encoded data removed]",
            "text/plain": [
              "<Figure size 432x288 with 1 Axes>"
            ]
          },
          "metadata": {
            "tags": []
          }
        },
        {
          "output_type": "stream",
          "text": [
            "epoch G error:  tensor(717.6946, device='cuda:0', grad_fn=<AddBackward0>)\n",
            "epoch D error:  tensor(782.3752, device='cuda:0', grad_fn=<AddBackward0>)\n",
            "161\n",
            "epoch G error:  tensor(710.2051, device='cuda:0', grad_fn=<AddBackward0>)\n",
            "epoch D error:  tensor(774.4114, device='cuda:0', grad_fn=<AddBackward0>)\n",
            "162\n",
            "epoch G error:  tensor(713.6279, device='cuda:0', grad_fn=<AddBackward0>)\n",
            "epoch D error:  tensor(777.9592, device='cuda:0', grad_fn=<AddBackward0>)\n",
            "163\n",
            "epoch G error:  tensor(723.9594, device='cuda:0', grad_fn=<AddBackward0>)\n",
            "epoch D error:  tensor(776.3531, device='cuda:0', grad_fn=<AddBackward0>)\n",
            "164\n",
            "epoch G error:  tensor(713.0717, device='cuda:0', grad_fn=<AddBackward0>)\n",
            "epoch D error:  tensor(777.1349, device='cuda:0', grad_fn=<AddBackward0>)\n",
            "165\n",
            "epoch G error:  tensor(715.7289, device='cuda:0', grad_fn=<AddBackward0>)\n",
            "epoch D error:  tensor(776.4881, device='cuda:0', grad_fn=<AddBackward0>)\n",
            "166\n",
            "epoch G error:  tensor(723.7396, device='cuda:0', grad_fn=<AddBackward0>)\n",
            "epoch D error:  tensor(775.1067, device='cuda:0', grad_fn=<AddBackward0>)\n",
            "167\n",
            "epoch G error:  tensor(708.4916, device='cuda:0', grad_fn=<AddBackward0>)\n",
            "epoch D error:  tensor(780.2766, device='cuda:0', grad_fn=<AddBackward0>)\n",
            "168\n",
            "epoch G error:  tensor(715.0901, device='cuda:0', grad_fn=<AddBackward0>)\n",
            "epoch D error:  tensor(780.0412, device='cuda:0', grad_fn=<AddBackward0>)\n",
            "169\n",
            "epoch G error:  tensor(708.2734, device='cuda:0', grad_fn=<AddBackward0>)\n",
            "epoch D error:  tensor(778.8998, device='cuda:0', grad_fn=<AddBackward0>)\n",
            "170\n",
            "torch.Size([1, 784])\n"
          ],
          "name": "stdout"
        },
        {
          "output_type": "display_data",
          "data": {
            "image/png": "[encoded data removed]",
            "text/plain": [
              "<Figure size 432x288 with 1 Axes>"
            ]
          },
          "metadata": {
            "tags": []
          }
        },
        {
          "output_type": "stream",
          "text": [
            "epoch G error:  tensor(706.9782, device='cuda:0', grad_fn=<AddBackward0>)\n",
            "epoch D error:  tensor(775.0790, device='cuda:0', grad_fn=<AddBackward0>)\n",
            "171\n",
            "epoch G error:  tensor(720.3047, device='cuda:0', grad_fn=<AddBackward0>)\n",
            "epoch D error:  tensor(780.2889, device='cuda:0', grad_fn=<AddBackward0>)\n",
            "172\n",
            "epoch G error:  tensor(713.4270, device='cuda:0', grad_fn=<AddBackward0>)\n",
            "epoch D error:  tensor(779.4005, device='cuda:0', grad_fn=<AddBackward0>)\n",
            "173\n",
            "epoch G error:  tensor(719.3203, device='cuda:0', grad_fn=<AddBackward0>)\n",
            "epoch D error:  tensor(779.6071, device='cuda:0', grad_fn=<AddBackward0>)\n",
            "174\n",
            "epoch G error:  tensor(703.3755, device='cuda:0', grad_fn=<AddBackward0>)\n",
            "epoch D error:  tensor(780.7447, device='cuda:0', grad_fn=<AddBackward0>)\n",
            "175\n",
            "epoch G error:  tensor(714.2645, device='cuda:0', grad_fn=<AddBackward0>)\n",
            "epoch D error:  tensor(779.9108, device='cuda:0', grad_fn=<AddBackward0>)\n",
            "176\n",
            "epoch G error:  tensor(711.4984, device='cuda:0', grad_fn=<AddBackward0>)\n",
            "epoch D error:  tensor(776.7637, device='cuda:0', grad_fn=<AddBackward0>)\n",
            "177\n",
            "epoch G error:  tensor(716.6659, device='cuda:0', grad_fn=<AddBackward0>)\n",
            "epoch D error:  tensor(783.6044, device='cuda:0', grad_fn=<AddBackward0>)\n",
            "178\n",
            "epoch G error:  tensor(714.4854, device='cuda:0', grad_fn=<AddBackward0>)\n",
            "epoch D error:  tensor(781.4014, device='cuda:0', grad_fn=<AddBackward0>)\n",
            "179\n",
            "epoch G error:  tensor(710.9430, device='cuda:0', grad_fn=<AddBackward0>)\n",
            "epoch D error:  tensor(778.7515, device='cuda:0', grad_fn=<AddBackward0>)\n",
            "180\n",
            "torch.Size([1, 784])\n"
          ],
          "name": "stdout"
        },
        {
          "output_type": "display_data",
          "data": {
            "image/png": "[encoded data removed]",
            "text/plain": [
              "<Figure size 432x288 with 1 Axes>"
            ]
          },
          "metadata": {
            "tags": []
          }
        },
        {
          "output_type": "stream",
          "text": [
            "epoch G error:  tensor(705.5847, device='cuda:0', grad_fn=<AddBackward0>)\n",
            "epoch D error:  tensor(781.3447, device='cuda:0', grad_fn=<AddBackward0>)\n",
            "181\n",
            "epoch G error:  tensor(715.0170, device='cuda:0', grad_fn=<AddBackward0>)\n",
            "epoch D error:  tensor(780.7696, device='cuda:0', grad_fn=<AddBackward0>)\n",
            "182\n",
            "epoch G error:  tensor(705.2996, device='cuda:0', grad_fn=<AddBackward0>)\n",
            "epoch D error:  tensor(779.6174, device='cuda:0', grad_fn=<AddBackward0>)\n",
            "183\n",
            "epoch G error:  tensor(710.4275, device='cuda:0', grad_fn=<AddBackward0>)\n",
            "epoch D error:  tensor(780.1247, device='cuda:0', grad_fn=<AddBackward0>)\n",
            "184\n",
            "epoch G error:  tensor(712.6044, device='cuda:0', grad_fn=<AddBackward0>)\n",
            "epoch D error:  tensor(780.4313, device='cuda:0', grad_fn=<AddBackward0>)\n",
            "185\n",
            "epoch G error:  tensor(710.2122, device='cuda:0', grad_fn=<AddBackward0>)\n",
            "epoch D error:  tensor(786.9391, device='cuda:0', grad_fn=<AddBackward0>)\n",
            "186\n",
            "epoch G error:  tensor(707.3104, device='cuda:0', grad_fn=<AddBackward0>)\n",
            "epoch D error:  tensor(783.7163, device='cuda:0', grad_fn=<AddBackward0>)\n",
            "187\n",
            "epoch G error:  tensor(702.4915, device='cuda:0', grad_fn=<AddBackward0>)\n",
            "epoch D error:  tensor(781.2248, device='cuda:0', grad_fn=<AddBackward0>)\n",
            "188\n",
            "epoch G error:  tensor(708.2499, device='cuda:0', grad_fn=<AddBackward0>)\n",
            "epoch D error:  tensor(780.7007, device='cuda:0', grad_fn=<AddBackward0>)\n",
            "189\n",
            "epoch G error:  tensor(711.1675, device='cuda:0', grad_fn=<AddBackward0>)\n",
            "epoch D error:  tensor(781.2166, device='cuda:0', grad_fn=<AddBackward0>)\n",
            "190\n",
            "torch.Size([1, 784])\n"
          ],
          "name": "stdout"
        },
        {
          "output_type": "display_data",
          "data": {
            "image/png": "[encoded data removed]",
            "text/plain": [
              "<Figure size 432x288 with 1 Axes>"
            ]
          },
          "metadata": {
            "tags": []
          }
        },
        {
          "output_type": "stream",
          "text": [
            "epoch G error:  tensor(718.3260, device='cuda:0', grad_fn=<AddBackward0>)\n",
            "epoch D error:  tensor(784.3619, device='cuda:0', grad_fn=<AddBackward0>)\n",
            "191\n",
            "epoch G error:  tensor(702.8353, device='cuda:0', grad_fn=<AddBackward0>)\n",
            "epoch D error:  tensor(779.7932, device='cuda:0', grad_fn=<AddBackward0>)\n",
            "192\n",
            "epoch G error:  tensor(714.0956, device='cuda:0', grad_fn=<AddBackward0>)\n",
            "epoch D error:  tensor(779.4701, device='cuda:0', grad_fn=<AddBackward0>)\n",
            "193\n",
            "epoch G error:  tensor(708.7381, device='cuda:0', grad_fn=<AddBackward0>)\n",
            "epoch D error:  tensor(781.2780, device='cuda:0', grad_fn=<AddBackward0>)\n",
            "194\n",
            "epoch G error:  tensor(711.0270, device='cuda:0', grad_fn=<AddBackward0>)\n",
            "epoch D error:  tensor(783.7773, device='cuda:0', grad_fn=<AddBackward0>)\n",
            "195\n",
            "epoch G error:  tensor(704.3491, device='cuda:0', grad_fn=<AddBackward0>)\n",
            "epoch D error:  tensor(779.2641, device='cuda:0', grad_fn=<AddBackward0>)\n",
            "196\n",
            "epoch G error:  tensor(708.3380, device='cuda:0', grad_fn=<AddBackward0>)\n",
            "epoch D error:  tensor(782.6122, device='cuda:0', grad_fn=<AddBackward0>)\n",
            "197\n",
            "epoch G error:  tensor(712.8870, device='cuda:0', grad_fn=<AddBackward0>)\n",
            "epoch D error:  tensor(782.7295, device='cuda:0', grad_fn=<AddBackward0>)\n",
            "198\n",
            "epoch G error:  tensor(707.4508, device='cuda:0', grad_fn=<AddBackward0>)\n",
            "epoch D error:  tensor(780.8459, device='cuda:0', grad_fn=<AddBackward0>)\n",
            "199\n",
            "epoch G error:  tensor(704.5393, device='cuda:0', grad_fn=<AddBackward0>)\n",
            "epoch D error:  tensor(780.8192, device='cuda:0', grad_fn=<AddBackward0>)\n",
            "200\n",
            "torch.Size([1, 784])\n"
          ],
          "name": "stdout"
        },
        {
          "output_type": "display_data",
          "data": {
            "image/png": "[encoded data removed]",
            "text/plain": [
              "<Figure size 432x288 with 1 Axes>"
            ]
          },
          "metadata": {
            "tags": []
          }
        },
        {
          "output_type": "stream",
          "text": [
            "epoch G error:  tensor(708.0579, device='cuda:0', grad_fn=<AddBackward0>)\n",
            "epoch D error:  tensor(779.9778, device='cuda:0', grad_fn=<AddBackward0>)\n"
          ],
          "name": "stdout"
        }
      ]
    },
    {
      "cell_type": "code",
      "metadata": {
        "id": "3fhos1LibTMf",
        "colab_type": "code",
        "colab": {
          "base_uri": "https://localhost:8080/",
          "height": 269
        },
        "outputId": "82954b1f-2a45-401d-8452-3647a1c346e6"
      },
      "source": [
        "noise=Variable(torch.randn(1, 100)).to(device)\n",
        "op=generatorNet(noise).detach()\n",
        "op=vectors_to_images(op)\n",
        "op=op.cpu().detach().numpy()\n",
        "plt.imshow(op,cmap='gray')\n",
        "plt.show()"
      ],
      "execution_count": 784,
      "outputs": [
        {
          "output_type": "display_data",
          "data": {
            "image/png": "[encoded data removed]",
            "text/plain": [
              "<Figure size 432x288 with 1 Axes>"
            ]
          },
          "metadata": {
            "tags": []
          }
        }
      ]
    }
  ]
}