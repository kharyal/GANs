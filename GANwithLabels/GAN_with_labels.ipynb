{
  "nbformat": 4,
  "nbformat_minor": 0,
  "metadata": {
    "colab": {
      "name": "GAN with labels.ipynb",
      "provenance": [],
      "include_colab_link": true
    },
    "kernelspec": {
      "name": "python3",
      "display_name": "Python 3"
    },
    "accelerator": "GPU"
  },
  "cells": [
    {
      "cell_type": "markdown",
      "metadata": {
        "id": "view-in-github",
        "colab_type": "text"
      },
      "source": [
        "<a href=\"https://colab.research.google.com/github/kharyal/GANs/blob/master/GANwithLabels/GAN_with_labels.ipynb\" target=\"_parent\"><img src=\"https://colab.research.google.com/assets/colab-badge.svg\" alt=\"Open In Colab\"/></a>"
      ]
    },
    {
      "cell_type": "code",
      "metadata": {
        "id": "swSX-1BE2n77",
        "colab_type": "code",
        "colab": {}
      },
      "source": [
        "import torch\n",
        "import torch.nn as nn\n",
        "import torchvision.transforms as transforms\n",
        "import torchvision.datasets as dsets\n",
        "from torch.autograd import Variable\n",
        "import torchvision\n",
        "import torch.nn as nn\n",
        "import torch.nn.functional as F\n",
        "import torch.optim as optim\n",
        "import numpy as np\n",
        "import matplotlib.pyplot as plt\n",
        "# from utils import Logger"
      ],
      "execution_count": 0,
      "outputs": []
    },
    {
      "cell_type": "code",
      "metadata": {
        "id": "RVHt7ZWQ293a",
        "colab_type": "code",
        "colab": {
          "base_uri": "https://localhost:8080/",
          "height": 272
        },
        "outputId": "4fd513e7-8956-4704-8d75-13f1882f59f7"
      },
      "source": [
        "device = torch.device(\"cuda\" if torch.cuda.is_available() else \"cpu\")\n",
        "\n",
        "batch_size=90\n",
        "train = dsets.MNIST(root = './data', train = True,\n",
        "                        transform = transforms.Compose(\n",
        "        [transforms.ToTensor(),\n",
        "         transforms.Normalize((.5,), (.5,))\n",
        "        ]), download = True)\n",
        "\n",
        "test = dsets.MNIST(root = './data', train = False,\n",
        "                       transform = transforms.Compose(\n",
        "        [transforms.ToTensor(),\n",
        "         transforms.Normalize((.5,), (.5,))\n",
        "        ]))\n",
        "train_batch = torch.utils.data.DataLoader(dataset = train,\n",
        "                                             batch_size = batch_size,\n",
        "                         \n",
        "                                             shuffle = True)\n",
        "\n",
        "test_batch = torch.utils.data.DataLoader(dataset = test,\n",
        "                                      batch_size = batch_size, \n",
        "                                      shuffle = False)"
      ],
      "execution_count": 2,
      "outputs": [
        {
          "output_type": "stream",
          "text": [
            "\r0it [00:00, ?it/s]"
          ],
          "name": "stderr"
        },
        {
          "output_type": "stream",
          "text": [
            "Downloading http://yann.lecun.com/exdb/mnist/train-images-idx3-ubyte.gz to ./data/MNIST/raw/train-images-idx3-ubyte.gz\n"
          ],
          "name": "stdout"
        },
        {
          "output_type": "stream",
          "text": [
            "9920512it [00:02, 3790696.99it/s]                             \n"
          ],
          "name": "stderr"
        },
        {
          "output_type": "stream",
          "text": [
            "Extracting ./data/MNIST/raw/train-images-idx3-ubyte.gz to ./data/MNIST/raw\n"
          ],
          "name": "stdout"
        },
        {
          "output_type": "stream",
          "text": [
            "\r0it [00:00, ?it/s]"
          ],
          "name": "stderr"
        },
        {
          "output_type": "stream",
          "text": [
            "Downloading http://yann.lecun.com/exdb/mnist/train-labels-idx1-ubyte.gz to ./data/MNIST/raw/train-labels-idx1-ubyte.gz\n"
          ],
          "name": "stdout"
        },
        {
          "output_type": "stream",
          "text": [
            "32768it [00:00, 55439.39it/s]                           \n",
            "0it [00:00, ?it/s]"
          ],
          "name": "stderr"
        },
        {
          "output_type": "stream",
          "text": [
            "Extracting ./data/MNIST/raw/train-labels-idx1-ubyte.gz to ./data/MNIST/raw\n",
            "Downloading http://yann.lecun.com/exdb/mnist/t10k-images-idx3-ubyte.gz to ./data/MNIST/raw/t10k-images-idx3-ubyte.gz\n"
          ],
          "name": "stdout"
        },
        {
          "output_type": "stream",
          "text": [
            "1654784it [00:01, 929709.49it/s]                             \n",
            "0it [00:00, ?it/s]"
          ],
          "name": "stderr"
        },
        {
          "output_type": "stream",
          "text": [
            "Extracting ./data/MNIST/raw/t10k-images-idx3-ubyte.gz to ./data/MNIST/raw\n",
            "Downloading http://yann.lecun.com/exdb/mnist/t10k-labels-idx1-ubyte.gz to ./data/MNIST/raw/t10k-labels-idx1-ubyte.gz\n"
          ],
          "name": "stdout"
        },
        {
          "output_type": "stream",
          "text": [
            "8192it [00:00, 21301.43it/s]            "
          ],
          "name": "stderr"
        },
        {
          "output_type": "stream",
          "text": [
            "Extracting ./data/MNIST/raw/t10k-labels-idx1-ubyte.gz to ./data/MNIST/raw\n",
            "Processing...\n",
            "Done!\n"
          ],
          "name": "stdout"
        },
        {
          "output_type": "stream",
          "text": [
            "\n"
          ],
          "name": "stderr"
        }
      ]
    },
    {
      "cell_type": "code",
      "metadata": {
        "id": "nrelqnZX3OIr",
        "colab_type": "code",
        "colab": {}
      },
      "source": [
        "def images_to_vectors(images):\n",
        "    return images.view(images.size(0), 784)\n",
        "\n",
        "def vectors_to_images(vectors):\n",
        "    return vectors.view(28, 28)"
      ],
      "execution_count": 0,
      "outputs": []
    },
    {
      "cell_type": "code",
      "metadata": {
        "id": "5D6lHZ6X3TdJ",
        "colab_type": "code",
        "colab": {}
      },
      "source": [
        "class classifier(nn.Module):\n",
        "    def __init__(self):\n",
        "        super(classifier,self).__init__()\n",
        "        ip=784\n",
        "        op=10\n",
        "\n",
        "        self.Layer1=nn.Sequential(\n",
        "            nn.Linear(ip,1000),\n",
        "            nn.LeakyReLU(),\n",
        "            nn.Dropout(0.3)\n",
        "        )\n",
        "        self.Layer2=nn.Sequential(\n",
        "            nn.Linear(1000,500),\n",
        "            nn.LeakyReLU(),\n",
        "            nn.Dropout(0.3)\n",
        "        )\n",
        "        self.Layer3=nn.Sequential(\n",
        "            nn.Linear(500,10),\n",
        "            nn.Sigmoid(),\n",
        "        )\n",
        "    \n",
        "    def forward(self,x):\n",
        "        x=self.Layer1(x)\n",
        "        x=self.Layer2(x)\n",
        "        x=self.Layer3(x)\n",
        "        return x"
      ],
      "execution_count": 0,
      "outputs": []
    },
    {
      "cell_type": "code",
      "metadata": {
        "id": "sZPnY6wW3b6n",
        "colab_type": "code",
        "colab": {
          "base_uri": "https://localhost:8080/",
          "height": 286
        },
        "outputId": "46c30205-dd8d-483d-d9fd-4eb9faee9567"
      },
      "source": [
        "classifyNet=classifier().to(device)\n",
        "lossclassify=nn.CrossEntropyLoss()\n",
        "classifyNet.load_state_dict(torch.load('./classifier'))\n",
        "classifyNet.eval()"
      ],
      "execution_count": 5,
      "outputs": [
        {
          "output_type": "execute_result",
          "data": {
            "text/plain": [
              "classifier(\n",
              "  (Layer1): Sequential(\n",
              "    (0): Linear(in_features=784, out_features=1000, bias=True)\n",
              "    (1): LeakyReLU(negative_slope=0.01)\n",
              "    (2): Dropout(p=0.3, inplace=False)\n",
              "  )\n",
              "  (Layer2): Sequential(\n",
              "    (0): Linear(in_features=1000, out_features=500, bias=True)\n",
              "    (1): LeakyReLU(negative_slope=0.01)\n",
              "    (2): Dropout(p=0.3, inplace=False)\n",
              "  )\n",
              "  (Layer3): Sequential(\n",
              "    (0): Linear(in_features=500, out_features=10, bias=True)\n",
              "    (1): Sigmoid()\n",
              "  )\n",
              ")"
            ]
          },
          "metadata": {
            "tags": []
          },
          "execution_count": 5
        }
      ]
    },
    {
      "cell_type": "code",
      "metadata": {
        "id": "Os77OUIO33Dj",
        "colab_type": "code",
        "colab": {}
      },
      "source": [
        "device = torch.device(\"cuda\" if torch.cuda.is_available() else \"cpu\")\n",
        "\n",
        "class discriminator(nn.Module):\n",
        "    def __init__(self):\n",
        "        super(discriminator,self).__init__()\n",
        "        ip=784\n",
        "        op=1\n",
        "\n",
        "        self.layer1=nn.Sequential(\n",
        "            nn.Linear(ip,1024),\n",
        "            nn.LeakyReLU(0.2),\n",
        "            nn.Dropout(0.3)\n",
        "        )\n",
        "\n",
        "        self.layer2=nn.Sequential(\n",
        "            nn.Linear(1024,512),\n",
        "            nn.LeakyReLU(0.2),\n",
        "            nn.Dropout(0.3)\n",
        "        )\n",
        "\n",
        "        # self.layer3=nn.Sequential(\n",
        "        #     nn.Linear(512,256),\n",
        "        #     nn.LeakyReLU(0.2),\n",
        "        #     nn.Dropout(0.3)\n",
        "        # )\n",
        "\n",
        "        self.layerOp=nn.Sequential(\n",
        "            nn.Linear(512,op),\n",
        "            nn.Sigmoid()\n",
        "        )\n",
        "    \n",
        "    def forward(self,x):\n",
        "        x=self.layer1(x)\n",
        "        x=self.layer2(x)\n",
        "        # x=self.layer3(x)\n",
        "        x=self.layerOp(x)\n",
        "        return x"
      ],
      "execution_count": 0,
      "outputs": []
    },
    {
      "cell_type": "code",
      "metadata": {
        "id": "VutJ3Sz038ZY",
        "colab_type": "code",
        "colab": {}
      },
      "source": [
        "class generator(nn.Module):\n",
        "    def __init__(self):\n",
        "        super(generator,self).__init__()\n",
        "        ip=100\n",
        "        op=784\n",
        "\n",
        "        self.layer1=nn.Sequential(\n",
        "            nn.Linear(ip,256),\n",
        "            nn.LeakyReLU()\n",
        "        )\n",
        "\n",
        "        self.layer2=nn.Sequential(\n",
        "            nn.Linear(256,512),\n",
        "            nn.LeakyReLU()\n",
        "        )\n",
        "\n",
        "        self.layer3=nn.Sequential(\n",
        "            nn.Linear(512,1024),\n",
        "            nn.LeakyReLU()\n",
        "        )\n",
        "\n",
        "        self.layerlb1=nn.Sequential(\n",
        "            nn.Linear(1,10),\n",
        "            nn.LeakyReLU()\n",
        "        )\n",
        "\n",
        "        self.layerlb2=nn.Sequential(\n",
        "            nn.Linear(10,100),\n",
        "            nn.LeakyReLU()\n",
        "        )\n",
        "\n",
        "        self.layerlb3=nn.Sequential(\n",
        "            nn.Linear(100,512),\n",
        "            nn.LeakyReLU()\n",
        "        )\n",
        "\n",
        "        self.layerOp=nn.Sequential(\n",
        "            nn.Linear(1024,op),\n",
        "            nn.Tanh()\n",
        "        )\n",
        "        self.relu=nn.LeakyReLU()\n",
        "\n",
        "    def forward(self,x,lb):\n",
        "        x=self.layer1(x)\n",
        "        x=self.layer2(x)\n",
        "        y=self.layerlb1(lb)\n",
        "        y=self.layerlb2(y)\n",
        "        y=self.layerlb3(y)\n",
        "        x=self.relu(self.layer3(x+y))\n",
        "        x=self.layerOp(x)\n",
        "        return x       "
      ],
      "execution_count": 0,
      "outputs": []
    },
    {
      "cell_type": "code",
      "metadata": {
        "id": "hKiRrogh3-2b",
        "colab_type": "code",
        "colab": {}
      },
      "source": [
        "discriminatorNet=discriminator()\n",
        "generatorNet=generator()\n",
        "# if torch.cuda.is_available():\n",
        "#     discriminatorNet.cuda()\n",
        "#     generatorNet.cuda()\n",
        "optimizer_d = torch.optim.Adam(discriminatorNet.parameters(), lr=0.0002)\n",
        "optimizer_g = torch.optim.Adam(generatorNet.parameters(), lr=0.0002)\n",
        "loss=nn.BCELoss()\n",
        "newLoss=nn.NLLLoss()"
      ],
      "execution_count": 0,
      "outputs": []
    },
    {
      "cell_type": "code",
      "metadata": {
        "id": "N0o12-ge4A4R",
        "colab_type": "code",
        "colab": {}
      },
      "source": [
        "def ones_target(size):\n",
        "    data = Variable(torch.ones(size, 1)).to(device)\n",
        "    return data\n",
        "\n",
        "def zeros_target(size):\n",
        "    data = Variable(torch.zeros(size, 1)).to(device)\n",
        "    return data"
      ],
      "execution_count": 0,
      "outputs": []
    },
    {
      "cell_type": "code",
      "metadata": {
        "id": "Kqn4JnZR4Cz_",
        "colab_type": "code",
        "colab": {}
      },
      "source": [
        "def trainDiscriminator(real_data, generated_data, optimizer):\n",
        "    N=real_data.size(0)\n",
        "    optimizer.zero_grad()\n",
        "\n",
        "    ### real data\n",
        "    opReal=discriminatorNet(real_data).to(device)\n",
        "    errorR= loss(opReal,ones_target(N)).to(device)\n",
        "    errorR.backward(retain_graph=True)\n",
        "    # print('opR ',opReal)\n",
        "    # optimizer.step()\n",
        "\n",
        "    ### generated data\n",
        "    opGen=discriminatorNet(generated_data).to(device)\n",
        "    errorG= loss(opGen,zeros_target(N)).to(device)\n",
        "    errorG.backward()\n",
        "    # print('opG ',opGen)\n",
        "\n",
        "    optimizer.step()\n",
        "    return errorR+errorG, opReal, opGen "
      ],
      "execution_count": 0,
      "outputs": []
    },
    {
      "cell_type": "code",
      "metadata": {
        "id": "2C8ghsMY4FNT",
        "colab_type": "code",
        "colab": {}
      },
      "source": [
        "def trainGenerator(optimizer, noise, lab):\n",
        "    N=noise.size(0)\n",
        "    optimizer.zero_grad()\n",
        "    randlab=Variable(torch.randint(low=0,high=10,size=(1,))).to(device)\n",
        "    generatedData=generatorNet(noise,randlab.float()).to(device)\n",
        "    op=discriminatorNet(generatedData).to(device)\n",
        "    error=loss(op,ones_target(N)).to(device)\n",
        "    error.backward()\n",
        "\n",
        "    randlab=Variable(torch.randint(low=0,high=10,size=(1,))).to(device)\n",
        "    generatedData=generatorNet(noise,randlab.float()).to(device)\n",
        "    y=classifyNet(generatedData).to(device)\n",
        "    # print(y.shape)\n",
        "    target=Variable(randlab.item()*ones_target(N).long()).reshape(N).to(device)\n",
        "    # print(target[0])\n",
        "    # print(len(y))\n",
        "    err=lossclassify(y.float(),target)\n",
        "    err.backward()\n",
        "    optimizer.step()    \n",
        "    return error"
      ],
      "execution_count": 0,
      "outputs": []
    },
    {
      "cell_type": "code",
      "metadata": {
        "id": "fUBaquab4HK1",
        "colab_type": "code",
        "colab": {
          "base_uri": "https://localhost:8080/",
          "height": 1000
        },
        "outputId": "c52cd017-3ecc-4d56-a35c-fd6e66ef0faf"
      },
      "source": [
        "epochs=201\n",
        "op=[]\n",
        "# logger = Logger(model_name='VGAN', data_name='MNIST')\n",
        "device = torch.device(\"cuda\" if torch.cuda.is_available() else \"cpu\")\n",
        "generatorNet=generatorNet.to(device)\n",
        "discriminatorNet=discriminatorNet.to(device)\n",
        "randtest=Variable(torch.randn(1, 100)).to(device)\n",
        "randLabel=Variable(torch.randint(low=0,high=10,size=(1,))).to(device)\n",
        "totalGerr=0\n",
        "totalDerr=0\n",
        "for epoch in range(epochs):\n",
        "    print(epoch)\n",
        "    totalGerr=0\n",
        "    totalDerr=0\n",
        "    for n_batch, (real_batch,_) in enumerate(train_batch):\n",
        "        # n_batch=n_batch.to(device)\n",
        "        real_batch=real_batch.to(device)\n",
        "        N=real_batch.size(0)\n",
        "\n",
        "        # print('Discriminator part')\n",
        "        real_data = Variable(images_to_vectors(real_batch))\n",
        "        rand=Variable(torch.randn(N, 100)).to(device)\n",
        "        randlab=Variable(torch.randint(low=0,high=10,size=(1,))).to(device)\n",
        "        gen=generatorNet(rand,randlab.float()).detach()\n",
        "        # op=vectors_to_images(gen)\n",
        "        # print(op.shape)\n",
        "        # plt.imshow(op)\n",
        "        # plt.show()\n",
        "        gen=gen.to(device)\n",
        "        d_error, d_pred_real, d_pred_fake = trainDiscriminator(real_data, gen, optimizer_d)\n",
        "        totalDerr=totalDerr+d_error\n",
        "\n",
        "        # print('Generator Part')\n",
        "        noise=Variable(torch.randn(N, 100)).to(device)\n",
        "        randlab=Variable(torch.randint(low=1,high=11,size=(N,))).to(device)\n",
        "        g_error = trainGenerator(optimizer_g, noise,randlab).to(device)\n",
        "        totalGerr=totalGerr+g_error\n",
        "        \n",
        "\n",
        "    if epoch%10==0:\n",
        "        op=generatorNet(randtest,randLabel.float()).detach()\n",
        "        print(\"LABEL GIVEN: \",randLabel)\n",
        "        print(\"LABEL PREDICTED: \",torch.max(op, 1))\n",
        "        op=vectors_to_images(op)\n",
        "        op=op.cpu().detach().numpy()\n",
        "        plt.imshow(op,cmap='gray')\n",
        "        plt.show()\n",
        "    print('epoch G error: ',totalGerr)\n",
        "    print('epoch D error: ',totalDerr)\n",
        "    # real_batch=real_batch.detach()\n",
        "    #     break.to(device)\n",
        "    # break"
      ],
      "execution_count": 12,
      "outputs": [
        {
          "output_type": "stream",
          "text": [
            "0\n",
            "LABEL GIVEN:  tensor([4], device='cuda:0')\n",
            "LABEL PREDICTED:  torch.return_types.max(\n",
            "values=tensor([1.], device='cuda:0'),\n",
            "indices=tensor([628], device='cuda:0'))\n"
          ],
          "name": "stdout"
        },
        {
          "output_type": "display_data",
          "data": {
            "image/png": "[encoded data removed]",
            "text/plain": [
              "<Figure size 432x288 with 1 Axes>"
            ]
          },
          "metadata": {
            "tags": []
          }
        },
        {
          "output_type": "stream",
          "text": [
            "epoch G error:  tensor(2745.8391, device='cuda:0', grad_fn=<AddBackward0>)\n",
            "epoch D error:  tensor(360.1322, device='cuda:0', grad_fn=<AddBackward0>)\n",
            "1\n",
            "epoch G error:  tensor(5104.0557, device='cuda:0', grad_fn=<AddBackward0>)\n",
            "epoch D error:  tensor(30.1525, device='cuda:0', grad_fn=<AddBackward0>)\n",
            "2\n",
            "epoch G error:  tensor(4067.8770, device='cuda:0', grad_fn=<AddBackward0>)\n",
            "epoch D error:  tensor(419.7989, device='cuda:0', grad_fn=<AddBackward0>)\n",
            "3\n",
            "epoch G error:  tensor(1037.4142, device='cuda:0', grad_fn=<AddBackward0>)\n",
            "epoch D error:  tensor(799.8028, device='cuda:0', grad_fn=<AddBackward0>)\n",
            "4\n",
            "epoch G error:  tensor(1449.1868, device='cuda:0', grad_fn=<AddBackward0>)\n",
            "epoch D error:  tensor(391.0601, device='cuda:0', grad_fn=<AddBackward0>)\n",
            "5\n",
            "epoch G error:  tensor(2106.2729, device='cuda:0', grad_fn=<AddBackward0>)\n",
            "epoch D error:  tensor(256.9132, device='cuda:0', grad_fn=<AddBackward0>)\n",
            "6\n",
            "epoch G error:  tensor(2117.0474, device='cuda:0', grad_fn=<AddBackward0>)\n",
            "epoch D error:  tensor(321.0113, device='cuda:0', grad_fn=<AddBackward0>)\n",
            "7\n",
            "epoch G error:  tensor(2204.7512, device='cuda:0', grad_fn=<AddBackward0>)\n",
            "epoch D error:  tensor(278.6057, device='cuda:0', grad_fn=<AddBackward0>)\n",
            "8\n",
            "epoch G error:  tensor(2381.6650, device='cuda:0', grad_fn=<AddBackward0>)\n",
            "epoch D error:  tensor(259.6868, device='cuda:0', grad_fn=<AddBackward0>)\n",
            "9\n",
            "epoch G error:  tensor(2684.3135, device='cuda:0', grad_fn=<AddBackward0>)\n",
            "epoch D error:  tensor(250.5917, device='cuda:0', grad_fn=<AddBackward0>)\n",
            "10\n",
            "LABEL GIVEN:  tensor([4], device='cuda:0')\n",
            "LABEL PREDICTED:  torch.return_types.max(\n",
            "values=tensor([0.9991], device='cuda:0'),\n",
            "indices=tensor([406], device='cuda:0'))\n"
          ],
          "name": "stdout"
        },
        {
          "output_type": "display_data",
          "data": {
            "image/png": "[encoded data removed]",
            "text/plain": [
              "<Figure size 432x288 with 1 Axes>"
            ]
          },
          "metadata": {
            "tags": []
          }
        },
        {
          "output_type": "stream",
          "text": [
            "epoch G error:  tensor(2175.3779, device='cuda:0', grad_fn=<AddBackward0>)\n",
            "epoch D error:  tensor(303.2980, device='cuda:0', grad_fn=<AddBackward0>)\n",
            "11\n",
            "epoch G error:  tensor(2344.2683, device='cuda:0', grad_fn=<AddBackward0>)\n",
            "epoch D error:  tensor(263.7489, device='cuda:0', grad_fn=<AddBackward0>)\n",
            "12\n",
            "epoch G error:  tensor(2247.3496, device='cuda:0', grad_fn=<AddBackward0>)\n",
            "epoch D error:  tensor(289.3344, device='cuda:0', grad_fn=<AddBackward0>)\n",
            "13\n",
            "epoch G error:  tensor(2202.3010, device='cuda:0', grad_fn=<AddBackward0>)\n",
            "epoch D error:  tensor(284.8908, device='cuda:0', grad_fn=<AddBackward0>)\n",
            "14\n",
            "epoch G error:  tensor(1920.2889, device='cuda:0', grad_fn=<AddBackward0>)\n",
            "epoch D error:  tensor(336.6754, device='cuda:0', grad_fn=<AddBackward0>)\n",
            "15\n",
            "epoch G error:  tensor(2021.3369, device='cuda:0', grad_fn=<AddBackward0>)\n",
            "epoch D error:  tensor(331.7550, device='cuda:0', grad_fn=<AddBackward0>)\n",
            "16\n",
            "epoch G error:  tensor(2012.9177, device='cuda:0', grad_fn=<AddBackward0>)\n",
            "epoch D error:  tensor(346.5729, device='cuda:0', grad_fn=<AddBackward0>)\n",
            "17\n",
            "epoch G error:  tensor(1794.0833, device='cuda:0', grad_fn=<AddBackward0>)\n",
            "epoch D error:  tensor(353.3651, device='cuda:0', grad_fn=<AddBackward0>)\n",
            "18\n",
            "epoch G error:  tensor(1641.1614, device='cuda:0', grad_fn=<AddBackward0>)\n",
            "epoch D error:  tensor(401.4077, device='cuda:0', grad_fn=<AddBackward0>)\n",
            "19\n",
            "epoch G error:  tensor(1547.3507, device='cuda:0', grad_fn=<AddBackward0>)\n",
            "epoch D error:  tensor(431.0852, device='cuda:0', grad_fn=<AddBackward0>)\n",
            "20\n",
            "LABEL GIVEN:  tensor([4], device='cuda:0')\n",
            "LABEL PREDICTED:  torch.return_types.max(\n",
            "values=tensor([1.], device='cuda:0'),\n",
            "indices=tensor([600], device='cuda:0'))\n"
          ],
          "name": "stdout"
        },
        {
          "output_type": "display_data",
          "data": {
            "image/png": "[encoded data removed]",
            "text/plain": [
              "<Figure size 432x288 with 1 Axes>"
            ]
          },
          "metadata": {
            "tags": []
          }
        },
        {
          "output_type": "stream",
          "text": [
            "epoch G error:  tensor(1590.4047, device='cuda:0', grad_fn=<AddBackward0>)\n",
            "epoch D error:  tensor(414.6684, device='cuda:0', grad_fn=<AddBackward0>)\n",
            "21\n",
            "epoch G error:  tensor(1504.0243, device='cuda:0', grad_fn=<AddBackward0>)\n",
            "epoch D error:  tensor(427.2148, device='cuda:0', grad_fn=<AddBackward0>)\n",
            "22\n",
            "epoch G error:  tensor(1449.3600, device='cuda:0', grad_fn=<AddBackward0>)\n",
            "epoch D error:  tensor(464.1426, device='cuda:0', grad_fn=<AddBackward0>)\n",
            "23\n",
            "epoch G error:  tensor(1476.3436, device='cuda:0', grad_fn=<AddBackward0>)\n",
            "epoch D error:  tensor(458.2817, device='cuda:0', grad_fn=<AddBackward0>)\n",
            "24\n",
            "epoch G error:  tensor(1329.7983, device='cuda:0', grad_fn=<AddBackward0>)\n",
            "epoch D error:  tensor(491.7799, device='cuda:0', grad_fn=<AddBackward0>)\n",
            "25\n",
            "epoch G error:  tensor(1317.3810, device='cuda:0', grad_fn=<AddBackward0>)\n",
            "epoch D error:  tensor(507.4990, device='cuda:0', grad_fn=<AddBackward0>)\n",
            "26\n",
            "epoch G error:  tensor(1253.0438, device='cuda:0', grad_fn=<AddBackward0>)\n",
            "epoch D error:  tensor(520.3968, device='cuda:0', grad_fn=<AddBackward0>)\n",
            "27\n",
            "epoch G error:  tensor(1299.9231, device='cuda:0', grad_fn=<AddBackward0>)\n",
            "epoch D error:  tensor(532.0546, device='cuda:0', grad_fn=<AddBackward0>)\n",
            "28\n",
            "epoch G error:  tensor(1268.2107, device='cuda:0', grad_fn=<AddBackward0>)\n",
            "epoch D error:  tensor(547.1293, device='cuda:0', grad_fn=<AddBackward0>)\n",
            "29\n",
            "epoch G error:  tensor(1139.6248, device='cuda:0', grad_fn=<AddBackward0>)\n",
            "epoch D error:  tensor(574.3721, device='cuda:0', grad_fn=<AddBackward0>)\n",
            "30\n",
            "LABEL GIVEN:  tensor([4], device='cuda:0')\n",
            "LABEL PREDICTED:  torch.return_types.max(\n",
            "values=tensor([1.], device='cuda:0'),\n",
            "indices=tensor([464], device='cuda:0'))\n"
          ],
          "name": "stdout"
        },
        {
          "output_type": "display_data",
          "data": {
            "image/png": "[encoded data removed]",
            "text/plain": [
              "<Figure size 432x288 with 1 Axes>"
            ]
          },
          "metadata": {
            "tags": []
          }
        },
        {
          "output_type": "stream",
          "text": [
            "epoch G error:  tensor(1104.7489, device='cuda:0', grad_fn=<AddBackward0>)\n",
            "epoch D error:  tensor(580.5854, device='cuda:0', grad_fn=<AddBackward0>)\n",
            "31\n",
            "epoch G error:  tensor(1121.1333, device='cuda:0', grad_fn=<AddBackward0>)\n",
            "epoch D error:  tensor(588.1790, device='cuda:0', grad_fn=<AddBackward0>)\n",
            "32\n",
            "epoch G error:  tensor(1146.1316, device='cuda:0', grad_fn=<AddBackward0>)\n",
            "epoch D error:  tensor(601.8317, device='cuda:0', grad_fn=<AddBackward0>)\n",
            "33\n",
            "epoch G error:  tensor(1171.7855, device='cuda:0', grad_fn=<AddBackward0>)\n",
            "epoch D error:  tensor(607.9919, device='cuda:0', grad_fn=<AddBackward0>)\n",
            "34\n",
            "epoch G error:  tensor(1057.6438, device='cuda:0', grad_fn=<AddBackward0>)\n",
            "epoch D error:  tensor(589.6005, device='cuda:0', grad_fn=<AddBackward0>)\n",
            "35\n",
            "epoch G error:  tensor(1081.0176, device='cuda:0', grad_fn=<AddBackward0>)\n",
            "epoch D error:  tensor(615.4735, device='cuda:0', grad_fn=<AddBackward0>)\n",
            "36\n",
            "epoch G error:  tensor(1038.3583, device='cuda:0', grad_fn=<AddBackward0>)\n",
            "epoch D error:  tensor(607.9667, device='cuda:0', grad_fn=<AddBackward0>)\n",
            "37\n",
            "epoch G error:  tensor(1043.0227, device='cuda:0', grad_fn=<AddBackward0>)\n",
            "epoch D error:  tensor(623.5591, device='cuda:0', grad_fn=<AddBackward0>)\n",
            "38\n",
            "epoch G error:  tensor(973.9013, device='cuda:0', grad_fn=<AddBackward0>)\n",
            "epoch D error:  tensor(632.3815, device='cuda:0', grad_fn=<AddBackward0>)\n",
            "39\n",
            "epoch G error:  tensor(1030.8409, device='cuda:0', grad_fn=<AddBackward0>)\n",
            "epoch D error:  tensor(648.8090, device='cuda:0', grad_fn=<AddBackward0>)\n",
            "40\n",
            "LABEL GIVEN:  tensor([4], device='cuda:0')\n",
            "LABEL PREDICTED:  torch.return_types.max(\n",
            "values=tensor([1.], device='cuda:0'),\n",
            "indices=tensor([457], device='cuda:0'))\n"
          ],
          "name": "stdout"
        },
        {
          "output_type": "display_data",
          "data": {
            "image/png": "[encoded data removed]",
            "text/plain": [
              "<Figure size 432x288 with 1 Axes>"
            ]
          },
          "metadata": {
            "tags": []
          }
        },
        {
          "output_type": "stream",
          "text": [
            "epoch G error:  tensor(987.0765, device='cuda:0', grad_fn=<AddBackward0>)\n",
            "epoch D error:  tensor(646.4091, device='cuda:0', grad_fn=<AddBackward0>)\n",
            "41\n",
            "epoch G error:  tensor(982.2646, device='cuda:0', grad_fn=<AddBackward0>)\n",
            "epoch D error:  tensor(641.3867, device='cuda:0', grad_fn=<AddBackward0>)\n",
            "42\n",
            "epoch G error:  tensor(979.8881, device='cuda:0', grad_fn=<AddBackward0>)\n",
            "epoch D error:  tensor(663.6335, device='cuda:0', grad_fn=<AddBackward0>)\n",
            "43\n",
            "epoch G error:  tensor(917.2868, device='cuda:0', grad_fn=<AddBackward0>)\n",
            "epoch D error:  tensor(658.0029, device='cuda:0', grad_fn=<AddBackward0>)\n",
            "44\n",
            "epoch G error:  tensor(940.1315, device='cuda:0', grad_fn=<AddBackward0>)\n",
            "epoch D error:  tensor(656.8806, device='cuda:0', grad_fn=<AddBackward0>)\n",
            "45\n",
            "epoch G error:  tensor(924.1599, device='cuda:0', grad_fn=<AddBackward0>)\n",
            "epoch D error:  tensor(687.0741, device='cuda:0', grad_fn=<AddBackward0>)\n",
            "46\n",
            "epoch G error:  tensor(900.9474, device='cuda:0', grad_fn=<AddBackward0>)\n",
            "epoch D error:  tensor(688.6949, device='cuda:0', grad_fn=<AddBackward0>)\n",
            "47\n",
            "epoch G error:  tensor(890.0373, device='cuda:0', grad_fn=<AddBackward0>)\n",
            "epoch D error:  tensor(686.7313, device='cuda:0', grad_fn=<AddBackward0>)\n",
            "48\n",
            "epoch G error:  tensor(864.1719, device='cuda:0', grad_fn=<AddBackward0>)\n",
            "epoch D error:  tensor(686.7325, device='cuda:0', grad_fn=<AddBackward0>)\n",
            "49\n",
            "epoch G error:  tensor(840.7855, device='cuda:0', grad_fn=<AddBackward0>)\n",
            "epoch D error:  tensor(696.4300, device='cuda:0', grad_fn=<AddBackward0>)\n",
            "50\n",
            "LABEL GIVEN:  tensor([4], device='cuda:0')\n",
            "LABEL PREDICTED:  torch.return_types.max(\n",
            "values=tensor([1.], device='cuda:0'),\n",
            "indices=tensor([520], device='cuda:0'))\n"
          ],
          "name": "stdout"
        },
        {
          "output_type": "display_data",
          "data": {
            "image/png": "[encoded data removed]",
            "text/plain": [
              "<Figure size 432x288 with 1 Axes>"
            ]
          },
          "metadata": {
            "tags": []
          }
        },
        {
          "output_type": "stream",
          "text": [
            "epoch G error:  tensor(890.2090, device='cuda:0', grad_fn=<AddBackward0>)\n",
            "epoch D error:  tensor(696.9751, device='cuda:0', grad_fn=<AddBackward0>)\n",
            "51\n",
            "epoch G error:  tensor(878.6635, device='cuda:0', grad_fn=<AddBackward0>)\n",
            "epoch D error:  tensor(705.3053, device='cuda:0', grad_fn=<AddBackward0>)\n",
            "52\n",
            "epoch G error:  tensor(846.1925, device='cuda:0', grad_fn=<AddBackward0>)\n",
            "epoch D error:  tensor(714.1520, device='cuda:0', grad_fn=<AddBackward0>)\n",
            "53\n",
            "epoch G error:  tensor(842.3472, device='cuda:0', grad_fn=<AddBackward0>)\n",
            "epoch D error:  tensor(714.1223, device='cuda:0', grad_fn=<AddBackward0>)\n",
            "54\n",
            "epoch G error:  tensor(845.4714, device='cuda:0', grad_fn=<AddBackward0>)\n",
            "epoch D error:  tensor(708.9028, device='cuda:0', grad_fn=<AddBackward0>)\n",
            "55\n",
            "epoch G error:  tensor(809.5822, device='cuda:0', grad_fn=<AddBackward0>)\n",
            "epoch D error:  tensor(719.9880, device='cuda:0', grad_fn=<AddBackward0>)\n",
            "56\n",
            "epoch G error:  tensor(838.0792, device='cuda:0', grad_fn=<AddBackward0>)\n",
            "epoch D error:  tensor(722.4104, device='cuda:0', grad_fn=<AddBackward0>)\n",
            "57\n",
            "epoch G error:  tensor(821.9933, device='cuda:0', grad_fn=<AddBackward0>)\n",
            "epoch D error:  tensor(727.5408, device='cuda:0', grad_fn=<AddBackward0>)\n",
            "58\n",
            "epoch G error:  tensor(784.0789, device='cuda:0', grad_fn=<AddBackward0>)\n",
            "epoch D error:  tensor(730.6371, device='cuda:0', grad_fn=<AddBackward0>)\n",
            "59\n",
            "epoch G error:  tensor(813.7214, device='cuda:0', grad_fn=<AddBackward0>)\n",
            "epoch D error:  tensor(740.2847, device='cuda:0', grad_fn=<AddBackward0>)\n",
            "60\n",
            "LABEL GIVEN:  tensor([4], device='cuda:0')\n",
            "LABEL PREDICTED:  torch.return_types.max(\n",
            "values=tensor([1.], device='cuda:0'),\n",
            "indices=tensor([486], device='cuda:0'))\n"
          ],
          "name": "stdout"
        },
        {
          "output_type": "display_data",
          "data": {
            "image/png": "[encoded data removed]",
            "text/plain": [
              "<Figure size 432x288 with 1 Axes>"
            ]
          },
          "metadata": {
            "tags": []
          }
        },
        {
          "output_type": "stream",
          "text": [
            "epoch G error:  tensor(791.7120, device='cuda:0', grad_fn=<AddBackward0>)\n",
            "epoch D error:  tensor(735.6982, device='cuda:0', grad_fn=<AddBackward0>)\n",
            "61\n",
            "epoch G error:  tensor(773.7803, device='cuda:0', grad_fn=<AddBackward0>)\n",
            "epoch D error:  tensor(728.3361, device='cuda:0', grad_fn=<AddBackward0>)\n",
            "62\n",
            "epoch G error:  tensor(779.7994, device='cuda:0', grad_fn=<AddBackward0>)\n",
            "epoch D error:  tensor(741.3046, device='cuda:0', grad_fn=<AddBackward0>)\n",
            "63\n",
            "epoch G error:  tensor(787.5145, device='cuda:0', grad_fn=<AddBackward0>)\n",
            "epoch D error:  tensor(729.9650, device='cuda:0', grad_fn=<AddBackward0>)\n",
            "64\n",
            "epoch G error:  tensor(787.4741, device='cuda:0', grad_fn=<AddBackward0>)\n",
            "epoch D error:  tensor(736.3455, device='cuda:0', grad_fn=<AddBackward0>)\n",
            "65\n",
            "epoch G error:  tensor(794.8466, device='cuda:0', grad_fn=<AddBackward0>)\n",
            "epoch D error:  tensor(732.8029, device='cuda:0', grad_fn=<AddBackward0>)\n",
            "66\n",
            "epoch G error:  tensor(782.8473, device='cuda:0', grad_fn=<AddBackward0>)\n",
            "epoch D error:  tensor(735.3154, device='cuda:0', grad_fn=<AddBackward0>)\n",
            "67\n",
            "epoch G error:  tensor(806.0104, device='cuda:0', grad_fn=<AddBackward0>)\n",
            "epoch D error:  tensor(734.9427, device='cuda:0', grad_fn=<AddBackward0>)\n",
            "68\n",
            "epoch G error:  tensor(752.1678, device='cuda:0', grad_fn=<AddBackward0>)\n",
            "epoch D error:  tensor(745.6647, device='cuda:0', grad_fn=<AddBackward0>)\n",
            "69\n",
            "epoch G error:  tensor(776.2681, device='cuda:0', grad_fn=<AddBackward0>)\n",
            "epoch D error:  tensor(748.6711, device='cuda:0', grad_fn=<AddBackward0>)\n",
            "70\n",
            "LABEL GIVEN:  tensor([4], device='cuda:0')\n",
            "LABEL PREDICTED:  torch.return_types.max(\n",
            "values=tensor([1.0000], device='cuda:0'),\n",
            "indices=tensor([457], device='cuda:0'))\n"
          ],
          "name": "stdout"
        },
        {
          "output_type": "display_data",
          "data": {
            "image/png": "[encoded data removed]",
            "text/plain": [
              "<Figure size 432x288 with 1 Axes>"
            ]
          },
          "metadata": {
            "tags": []
          }
        },
        {
          "output_type": "stream",
          "text": [
            "epoch G error:  tensor(774.1242, device='cuda:0', grad_fn=<AddBackward0>)\n",
            "epoch D error:  tensor(749.8207, device='cuda:0', grad_fn=<AddBackward0>)\n",
            "71\n",
            "epoch G error:  tensor(773.0444, device='cuda:0', grad_fn=<AddBackward0>)\n",
            "epoch D error:  tensor(742.2073, device='cuda:0', grad_fn=<AddBackward0>)\n",
            "72\n",
            "epoch G error:  tensor(780.4959, device='cuda:0', grad_fn=<AddBackward0>)\n",
            "epoch D error:  tensor(748.6806, device='cuda:0', grad_fn=<AddBackward0>)\n",
            "73\n",
            "epoch G error:  tensor(758.1069, device='cuda:0', grad_fn=<AddBackward0>)\n",
            "epoch D error:  tensor(757.8055, device='cuda:0', grad_fn=<AddBackward0>)\n",
            "74\n",
            "epoch G error:  tensor(756.6225, device='cuda:0', grad_fn=<AddBackward0>)\n",
            "epoch D error:  tensor(768.7535, device='cuda:0', grad_fn=<AddBackward0>)\n",
            "75\n",
            "epoch G error:  tensor(748.5422, device='cuda:0', grad_fn=<AddBackward0>)\n",
            "epoch D error:  tensor(781.9208, device='cuda:0', grad_fn=<AddBackward0>)\n",
            "76\n",
            "epoch G error:  tensor(714.2602, device='cuda:0', grad_fn=<AddBackward0>)\n",
            "epoch D error:  tensor(775.0827, device='cuda:0', grad_fn=<AddBackward0>)\n",
            "77\n",
            "epoch G error:  tensor(722.3369, device='cuda:0', grad_fn=<AddBackward0>)\n",
            "epoch D error:  tensor(791.7030, device='cuda:0', grad_fn=<AddBackward0>)\n",
            "78\n",
            "epoch G error:  tensor(700.9976, device='cuda:0', grad_fn=<AddBackward0>)\n",
            "epoch D error:  tensor(789.5675, device='cuda:0', grad_fn=<AddBackward0>)\n",
            "79\n",
            "epoch G error:  tensor(682.9968, device='cuda:0', grad_fn=<AddBackward0>)\n",
            "epoch D error:  tensor(809.4888, device='cuda:0', grad_fn=<AddBackward0>)\n",
            "80\n",
            "LABEL GIVEN:  tensor([4], device='cuda:0')\n",
            "LABEL PREDICTED:  torch.return_types.max(\n",
            "values=tensor([0.9999], device='cuda:0'),\n",
            "indices=tensor([380], device='cuda:0'))\n"
          ],
          "name": "stdout"
        },
        {
          "output_type": "display_data",
          "data": {
            "image/png": "[encoded data removed]",
            "text/plain": [
              "<Figure size 432x288 with 1 Axes>"
            ]
          },
          "metadata": {
            "tags": []
          }
        },
        {
          "output_type": "stream",
          "text": [
            "epoch G error:  tensor(694.2168, device='cuda:0', grad_fn=<AddBackward0>)\n",
            "epoch D error:  tensor(810.0197, device='cuda:0', grad_fn=<AddBackward0>)\n",
            "81\n",
            "epoch G error:  tensor(674.1510, device='cuda:0', grad_fn=<AddBackward0>)\n",
            "epoch D error:  tensor(815.7286, device='cuda:0', grad_fn=<AddBackward0>)\n",
            "82\n",
            "epoch G error:  tensor(666.2656, device='cuda:0', grad_fn=<AddBackward0>)\n",
            "epoch D error:  tensor(814.0885, device='cuda:0', grad_fn=<AddBackward0>)\n",
            "83\n",
            "epoch G error:  tensor(671.5649, device='cuda:0', grad_fn=<AddBackward0>)\n",
            "epoch D error:  tensor(824.4357, device='cuda:0', grad_fn=<AddBackward0>)\n",
            "84\n",
            "epoch G error:  tensor(650.8882, device='cuda:0', grad_fn=<AddBackward0>)\n",
            "epoch D error:  tensor(824.8849, device='cuda:0', grad_fn=<AddBackward0>)\n",
            "85\n",
            "epoch G error:  tensor(669.0235, device='cuda:0', grad_fn=<AddBackward0>)\n",
            "epoch D error:  tensor(814.7926, device='cuda:0', grad_fn=<AddBackward0>)\n",
            "86\n",
            "epoch G error:  tensor(680.1816, device='cuda:0', grad_fn=<AddBackward0>)\n",
            "epoch D error:  tensor(816.3942, device='cuda:0', grad_fn=<AddBackward0>)\n",
            "87\n",
            "epoch G error:  tensor(650.5186, device='cuda:0', grad_fn=<AddBackward0>)\n",
            "epoch D error:  tensor(826.8054, device='cuda:0', grad_fn=<AddBackward0>)\n",
            "88\n",
            "epoch G error:  tensor(655.1373, device='cuda:0', grad_fn=<AddBackward0>)\n",
            "epoch D error:  tensor(815.0905, device='cuda:0', grad_fn=<AddBackward0>)\n",
            "89\n",
            "epoch G error:  tensor(648.8600, device='cuda:0', grad_fn=<AddBackward0>)\n",
            "epoch D error:  tensor(830.4897, device='cuda:0', grad_fn=<AddBackward0>)\n",
            "90\n",
            "LABEL GIVEN:  tensor([4], device='cuda:0')\n",
            "LABEL PREDICTED:  torch.return_types.max(\n",
            "values=tensor([1.0000], device='cuda:0'),\n",
            "indices=tensor([401], device='cuda:0'))\n"
          ],
          "name": "stdout"
        },
        {
          "output_type": "display_data",
          "data": {
            "image/png": "[encoded data removed]",
            "text/plain": [
              "<Figure size 432x288 with 1 Axes>"
            ]
          },
          "metadata": {
            "tags": []
          }
        },
        {
          "output_type": "stream",
          "text": [
            "epoch G error:  tensor(641.4417, device='cuda:0', grad_fn=<AddBackward0>)\n",
            "epoch D error:  tensor(832.2088, device='cuda:0', grad_fn=<AddBackward0>)\n",
            "91\n",
            "epoch G error:  tensor(638.3430, device='cuda:0', grad_fn=<AddBackward0>)\n",
            "epoch D error:  tensor(829.6225, device='cuda:0', grad_fn=<AddBackward0>)\n",
            "92\n",
            "epoch G error:  tensor(660.7601, device='cuda:0', grad_fn=<AddBackward0>)\n",
            "epoch D error:  tensor(834.7407, device='cuda:0', grad_fn=<AddBackward0>)\n",
            "93\n",
            "epoch G error:  tensor(624.2410, device='cuda:0', grad_fn=<AddBackward0>)\n",
            "epoch D error:  tensor(835.6778, device='cuda:0', grad_fn=<AddBackward0>)\n",
            "94\n",
            "epoch G error:  tensor(651.3713, device='cuda:0', grad_fn=<AddBackward0>)\n",
            "epoch D error:  tensor(841.2631, device='cuda:0', grad_fn=<AddBackward0>)\n",
            "95\n",
            "epoch G error:  tensor(632.3500, device='cuda:0', grad_fn=<AddBackward0>)\n",
            "epoch D error:  tensor(834.9451, device='cuda:0', grad_fn=<AddBackward0>)\n",
            "96\n",
            "epoch G error:  tensor(619.9699, device='cuda:0', grad_fn=<AddBackward0>)\n",
            "epoch D error:  tensor(839.6949, device='cuda:0', grad_fn=<AddBackward0>)\n",
            "97\n",
            "epoch G error:  tensor(626.3273, device='cuda:0', grad_fn=<AddBackward0>)\n",
            "epoch D error:  tensor(844.3149, device='cuda:0', grad_fn=<AddBackward0>)\n",
            "98\n",
            "epoch G error:  tensor(651.3401, device='cuda:0', grad_fn=<AddBackward0>)\n",
            "epoch D error:  tensor(843.6736, device='cuda:0', grad_fn=<AddBackward0>)\n",
            "99\n",
            "epoch G error:  tensor(618.0829, device='cuda:0', grad_fn=<AddBackward0>)\n",
            "epoch D error:  tensor(835.7100, device='cuda:0', grad_fn=<AddBackward0>)\n",
            "100\n",
            "LABEL GIVEN:  tensor([4], device='cuda:0')\n",
            "LABEL PREDICTED:  torch.return_types.max(\n",
            "values=tensor([1.0000], device='cuda:0'),\n",
            "indices=tensor([401], device='cuda:0'))\n"
          ],
          "name": "stdout"
        },
        {
          "output_type": "display_data",
          "data": {
            "image/png": "[encoded data removed]",
            "text/plain": [
              "<Figure size 432x288 with 1 Axes>"
            ]
          },
          "metadata": {
            "tags": []
          }
        },
        {
          "output_type": "stream",
          "text": [
            "epoch G error:  tensor(628.7620, device='cuda:0', grad_fn=<AddBackward0>)\n",
            "epoch D error:  tensor(842.7175, device='cuda:0', grad_fn=<AddBackward0>)\n",
            "101\n",
            "epoch G error:  tensor(624.6737, device='cuda:0', grad_fn=<AddBackward0>)\n",
            "epoch D error:  tensor(834.8361, device='cuda:0', grad_fn=<AddBackward0>)\n",
            "102\n",
            "epoch G error:  tensor(617.7888, device='cuda:0', grad_fn=<AddBackward0>)\n",
            "epoch D error:  tensor(838.6313, device='cuda:0', grad_fn=<AddBackward0>)\n",
            "103\n",
            "epoch G error:  tensor(624.2320, device='cuda:0', grad_fn=<AddBackward0>)\n",
            "epoch D error:  tensor(847.7716, device='cuda:0', grad_fn=<AddBackward0>)\n",
            "104\n",
            "epoch G error:  tensor(605.5580, device='cuda:0', grad_fn=<AddBackward0>)\n",
            "epoch D error:  tensor(848.3054, device='cuda:0', grad_fn=<AddBackward0>)\n",
            "105\n",
            "epoch G error:  tensor(609.7537, device='cuda:0', grad_fn=<AddBackward0>)\n",
            "epoch D error:  tensor(840.1028, device='cuda:0', grad_fn=<AddBackward0>)\n",
            "106\n",
            "epoch G error:  tensor(592.6614, device='cuda:0', grad_fn=<AddBackward0>)\n",
            "epoch D error:  tensor(849.8969, device='cuda:0', grad_fn=<AddBackward0>)\n",
            "107\n",
            "epoch G error:  tensor(613.5531, device='cuda:0', grad_fn=<AddBackward0>)\n",
            "epoch D error:  tensor(854.8976, device='cuda:0', grad_fn=<AddBackward0>)\n",
            "108\n",
            "epoch G error:  tensor(608.7692, device='cuda:0', grad_fn=<AddBackward0>)\n",
            "epoch D error:  tensor(852.9712, device='cuda:0', grad_fn=<AddBackward0>)\n",
            "109\n",
            "epoch G error:  tensor(591.6038, device='cuda:0', grad_fn=<AddBackward0>)\n",
            "epoch D error:  tensor(847.0118, device='cuda:0', grad_fn=<AddBackward0>)\n",
            "110\n",
            "LABEL GIVEN:  tensor([4], device='cuda:0')\n",
            "LABEL PREDICTED:  torch.return_types.max(\n",
            "values=tensor([1.0000], device='cuda:0'),\n",
            "indices=tensor([401], device='cuda:0'))\n"
          ],
          "name": "stdout"
        },
        {
          "output_type": "display_data",
          "data": {
            "image/png": "[encoded data removed]",
            "text/plain": [
              "<Figure size 432x288 with 1 Axes>"
            ]
          },
          "metadata": {
            "tags": []
          }
        },
        {
          "output_type": "stream",
          "text": [
            "epoch G error:  tensor(604.7971, device='cuda:0', grad_fn=<AddBackward0>)\n",
            "epoch D error:  tensor(851.1564, device='cuda:0', grad_fn=<AddBackward0>)\n",
            "111\n",
            "epoch G error:  tensor(590.7387, device='cuda:0', grad_fn=<AddBackward0>)\n",
            "epoch D error:  tensor(859.3157, device='cuda:0', grad_fn=<AddBackward0>)\n",
            "112\n",
            "epoch G error:  tensor(592.6663, device='cuda:0', grad_fn=<AddBackward0>)\n",
            "epoch D error:  tensor(852.5328, device='cuda:0', grad_fn=<AddBackward0>)\n",
            "113\n",
            "epoch G error:  tensor(605.4932, device='cuda:0', grad_fn=<AddBackward0>)\n",
            "epoch D error:  tensor(853.7721, device='cuda:0', grad_fn=<AddBackward0>)\n",
            "114\n",
            "epoch G error:  tensor(587.2313, device='cuda:0', grad_fn=<AddBackward0>)\n",
            "epoch D error:  tensor(859.1909, device='cuda:0', grad_fn=<AddBackward0>)\n",
            "115\n",
            "epoch G error:  tensor(606.0485, device='cuda:0', grad_fn=<AddBackward0>)\n",
            "epoch D error:  tensor(855.0750, device='cuda:0', grad_fn=<AddBackward0>)\n",
            "116\n",
            "epoch G error:  tensor(583.8892, device='cuda:0', grad_fn=<AddBackward0>)\n",
            "epoch D error:  tensor(856.8463, device='cuda:0', grad_fn=<AddBackward0>)\n",
            "117\n",
            "epoch G error:  tensor(579.5357, device='cuda:0', grad_fn=<AddBackward0>)\n",
            "epoch D error:  tensor(853.9736, device='cuda:0', grad_fn=<AddBackward0>)\n",
            "118\n",
            "epoch G error:  tensor(583.2971, device='cuda:0', grad_fn=<AddBackward0>)\n",
            "epoch D error:  tensor(858.6252, device='cuda:0', grad_fn=<AddBackward0>)\n",
            "119\n",
            "epoch G error:  tensor(591.2122, device='cuda:0', grad_fn=<AddBackward0>)\n",
            "epoch D error:  tensor(859.7226, device='cuda:0', grad_fn=<AddBackward0>)\n",
            "120\n",
            "LABEL GIVEN:  tensor([4], device='cuda:0')\n",
            "LABEL PREDICTED:  torch.return_types.max(\n",
            "values=tensor([1.0000], device='cuda:0'),\n",
            "indices=tensor([407], device='cuda:0'))\n"
          ],
          "name": "stdout"
        },
        {
          "output_type": "display_data",
          "data": {
            "image/png": "[encoded data removed]",
            "text/plain": [
              "<Figure size 432x288 with 1 Axes>"
            ]
          },
          "metadata": {
            "tags": []
          }
        },
        {
          "output_type": "stream",
          "text": [
            "epoch G error:  tensor(608.8113, device='cuda:0', grad_fn=<AddBackward0>)\n",
            "epoch D error:  tensor(866.6714, device='cuda:0', grad_fn=<AddBackward0>)\n",
            "121\n",
            "epoch G error:  tensor(587.6094, device='cuda:0', grad_fn=<AddBackward0>)\n",
            "epoch D error:  tensor(860.4031, device='cuda:0', grad_fn=<AddBackward0>)\n",
            "122\n",
            "epoch G error:  tensor(575.4376, device='cuda:0', grad_fn=<AddBackward0>)\n",
            "epoch D error:  tensor(854.4439, device='cuda:0', grad_fn=<AddBackward0>)\n",
            "123\n",
            "epoch G error:  tensor(576.6203, device='cuda:0', grad_fn=<AddBackward0>)\n",
            "epoch D error:  tensor(857.9030, device='cuda:0', grad_fn=<AddBackward0>)\n",
            "124\n",
            "epoch G error:  tensor(568.3423, device='cuda:0', grad_fn=<AddBackward0>)\n",
            "epoch D error:  tensor(866.2615, device='cuda:0', grad_fn=<AddBackward0>)\n",
            "125\n",
            "epoch G error:  tensor(585.2100, device='cuda:0', grad_fn=<AddBackward0>)\n",
            "epoch D error:  tensor(865.1667, device='cuda:0', grad_fn=<AddBackward0>)\n",
            "126\n",
            "epoch G error:  tensor(615.4997, device='cuda:0', grad_fn=<AddBackward0>)\n",
            "epoch D error:  tensor(856.7501, device='cuda:0', grad_fn=<AddBackward0>)\n",
            "127\n",
            "epoch G error:  tensor(578.1342, device='cuda:0', grad_fn=<AddBackward0>)\n",
            "epoch D error:  tensor(865.2058, device='cuda:0', grad_fn=<AddBackward0>)\n",
            "128\n",
            "epoch G error:  tensor(585.1400, device='cuda:0', grad_fn=<AddBackward0>)\n",
            "epoch D error:  tensor(854.5806, device='cuda:0', grad_fn=<AddBackward0>)\n",
            "129\n",
            "epoch G error:  tensor(575.5692, device='cuda:0', grad_fn=<AddBackward0>)\n",
            "epoch D error:  tensor(866.3917, device='cuda:0', grad_fn=<AddBackward0>)\n",
            "130\n",
            "LABEL GIVEN:  tensor([4], device='cuda:0')\n",
            "LABEL PREDICTED:  torch.return_types.max(\n",
            "values=tensor([1.], device='cuda:0'),\n",
            "indices=tensor([408], device='cuda:0'))\n"
          ],
          "name": "stdout"
        },
        {
          "output_type": "display_data",
          "data": {
            "image/png": "[encoded data removed]",
            "text/plain": [
              "<Figure size 432x288 with 1 Axes>"
            ]
          },
          "metadata": {
            "tags": []
          }
        },
        {
          "output_type": "stream",
          "text": [
            "epoch G error:  tensor(579.3036, device='cuda:0', grad_fn=<AddBackward0>)\n",
            "epoch D error:  tensor(865.5681, device='cuda:0', grad_fn=<AddBackward0>)\n",
            "131\n",
            "epoch G error:  tensor(611.3108, device='cuda:0', grad_fn=<AddBackward0>)\n",
            "epoch D error:  tensor(855.6731, device='cuda:0', grad_fn=<AddBackward0>)\n",
            "132\n",
            "epoch G error:  tensor(575.8461, device='cuda:0', grad_fn=<AddBackward0>)\n",
            "epoch D error:  tensor(861.1246, device='cuda:0', grad_fn=<AddBackward0>)\n",
            "133\n",
            "epoch G error:  tensor(589.4321, device='cuda:0', grad_fn=<AddBackward0>)\n",
            "epoch D error:  tensor(861.3096, device='cuda:0', grad_fn=<AddBackward0>)\n",
            "134\n",
            "epoch G error:  tensor(583.4435, device='cuda:0', grad_fn=<AddBackward0>)\n",
            "epoch D error:  tensor(863.0606, device='cuda:0', grad_fn=<AddBackward0>)\n",
            "135\n",
            "epoch G error:  tensor(592.8600, device='cuda:0', grad_fn=<AddBackward0>)\n",
            "epoch D error:  tensor(858.6220, device='cuda:0', grad_fn=<AddBackward0>)\n",
            "136\n",
            "epoch G error:  tensor(568.9055, device='cuda:0', grad_fn=<AddBackward0>)\n",
            "epoch D error:  tensor(868.1873, device='cuda:0', grad_fn=<AddBackward0>)\n",
            "137\n",
            "epoch G error:  tensor(572.8335, device='cuda:0', grad_fn=<AddBackward0>)\n",
            "epoch D error:  tensor(869.6934, device='cuda:0', grad_fn=<AddBackward0>)\n",
            "138\n",
            "epoch G error:  tensor(573.7322, device='cuda:0', grad_fn=<AddBackward0>)\n",
            "epoch D error:  tensor(868.4391, device='cuda:0', grad_fn=<AddBackward0>)\n",
            "139\n",
            "epoch G error:  tensor(577.5515, device='cuda:0', grad_fn=<AddBackward0>)\n",
            "epoch D error:  tensor(868.1694, device='cuda:0', grad_fn=<AddBackward0>)\n",
            "140\n",
            "LABEL GIVEN:  tensor([4], device='cuda:0')\n",
            "LABEL PREDICTED:  torch.return_types.max(\n",
            "values=tensor([1.], device='cuda:0'),\n",
            "indices=tensor([407], device='cuda:0'))\n"
          ],
          "name": "stdout"
        },
        {
          "output_type": "display_data",
          "data": {
            "image/png": "[encoded data removed]",
            "text/plain": [
              "<Figure size 432x288 with 1 Axes>"
            ]
          },
          "metadata": {
            "tags": []
          }
        },
        {
          "output_type": "stream",
          "text": [
            "epoch G error:  tensor(566.3101, device='cuda:0', grad_fn=<AddBackward0>)\n",
            "epoch D error:  tensor(871.5536, device='cuda:0', grad_fn=<AddBackward0>)\n",
            "141\n",
            "epoch G error:  tensor(567.8121, device='cuda:0', grad_fn=<AddBackward0>)\n",
            "epoch D error:  tensor(867.0706, device='cuda:0', grad_fn=<AddBackward0>)\n",
            "142\n",
            "epoch G error:  tensor(566.3365, device='cuda:0', grad_fn=<AddBackward0>)\n",
            "epoch D error:  tensor(869.9769, device='cuda:0', grad_fn=<AddBackward0>)\n",
            "143\n",
            "epoch G error:  tensor(576.2682, device='cuda:0', grad_fn=<AddBackward0>)\n",
            "epoch D error:  tensor(865.8766, device='cuda:0', grad_fn=<AddBackward0>)\n",
            "144\n",
            "epoch G error:  tensor(565.2098, device='cuda:0', grad_fn=<AddBackward0>)\n",
            "epoch D error:  tensor(870.7792, device='cuda:0', grad_fn=<AddBackward0>)\n",
            "145\n",
            "epoch G error:  tensor(557.0080, device='cuda:0', grad_fn=<AddBackward0>)\n",
            "epoch D error:  tensor(872.7993, device='cuda:0', grad_fn=<AddBackward0>)\n",
            "146\n",
            "epoch G error:  tensor(556.5760, device='cuda:0', grad_fn=<AddBackward0>)\n",
            "epoch D error:  tensor(872.0198, device='cuda:0', grad_fn=<AddBackward0>)\n",
            "147\n",
            "epoch G error:  tensor(563.8403, device='cuda:0', grad_fn=<AddBackward0>)\n",
            "epoch D error:  tensor(871.5945, device='cuda:0', grad_fn=<AddBackward0>)\n",
            "148\n",
            "epoch G error:  tensor(563.6141, device='cuda:0', grad_fn=<AddBackward0>)\n",
            "epoch D error:  tensor(872.0566, device='cuda:0', grad_fn=<AddBackward0>)\n",
            "149\n",
            "epoch G error:  tensor(554.1516, device='cuda:0', grad_fn=<AddBackward0>)\n",
            "epoch D error:  tensor(882.5838, device='cuda:0', grad_fn=<AddBackward0>)\n",
            "150\n",
            "LABEL GIVEN:  tensor([4], device='cuda:0')\n",
            "LABEL PREDICTED:  torch.return_types.max(\n",
            "values=tensor([1.], device='cuda:0'),\n",
            "indices=tensor([407], device='cuda:0'))\n"
          ],
          "name": "stdout"
        },
        {
          "output_type": "display_data",
          "data": {
            "image/png": "[encoded data removed]",
            "text/plain": [
              "<Figure size 432x288 with 1 Axes>"
            ]
          },
          "metadata": {
            "tags": []
          }
        },
        {
          "output_type": "stream",
          "text": [
            "epoch G error:  tensor(554.8984, device='cuda:0', grad_fn=<AddBackward0>)\n",
            "epoch D error:  tensor(874.8821, device='cuda:0', grad_fn=<AddBackward0>)\n",
            "151\n",
            "epoch G error:  tensor(560.8436, device='cuda:0', grad_fn=<AddBackward0>)\n",
            "epoch D error:  tensor(879.7322, device='cuda:0', grad_fn=<AddBackward0>)\n",
            "152\n",
            "epoch G error:  tensor(568.2728, device='cuda:0', grad_fn=<AddBackward0>)\n",
            "epoch D error:  tensor(875.9649, device='cuda:0', grad_fn=<AddBackward0>)\n",
            "153\n",
            "epoch G error:  tensor(557.6671, device='cuda:0', grad_fn=<AddBackward0>)\n",
            "epoch D error:  tensor(873.7538, device='cuda:0', grad_fn=<AddBackward0>)\n",
            "154\n",
            "epoch G error:  tensor(555.2896, device='cuda:0', grad_fn=<AddBackward0>)\n",
            "epoch D error:  tensor(876.5966, device='cuda:0', grad_fn=<AddBackward0>)\n",
            "155\n",
            "epoch G error:  tensor(563.0627, device='cuda:0', grad_fn=<AddBackward0>)\n",
            "epoch D error:  tensor(871.8222, device='cuda:0', grad_fn=<AddBackward0>)\n",
            "156\n",
            "epoch G error:  tensor(557.1658, device='cuda:0', grad_fn=<AddBackward0>)\n",
            "epoch D error:  tensor(874.5410, device='cuda:0', grad_fn=<AddBackward0>)\n",
            "157\n",
            "epoch G error:  tensor(560.7126, device='cuda:0', grad_fn=<AddBackward0>)\n",
            "epoch D error:  tensor(876.5286, device='cuda:0', grad_fn=<AddBackward0>)\n",
            "158\n",
            "epoch G error:  tensor(558.3705, device='cuda:0', grad_fn=<AddBackward0>)\n",
            "epoch D error:  tensor(878.5049, device='cuda:0', grad_fn=<AddBackward0>)\n",
            "159\n",
            "epoch G error:  tensor(554.2397, device='cuda:0', grad_fn=<AddBackward0>)\n",
            "epoch D error:  tensor(878.0367, device='cuda:0', grad_fn=<AddBackward0>)\n",
            "160\n",
            "LABEL GIVEN:  tensor([4], device='cuda:0')\n",
            "LABEL PREDICTED:  torch.return_types.max(\n",
            "values=tensor([1.0000], device='cuda:0'),\n",
            "indices=tensor([435], device='cuda:0'))\n"
          ],
          "name": "stdout"
        },
        {
          "output_type": "display_data",
          "data": {
            "image/png": "[encoded data removed]",
            "text/plain": [
              "<Figure size 432x288 with 1 Axes>"
            ]
          },
          "metadata": {
            "tags": []
          }
        },
        {
          "output_type": "stream",
          "text": [
            "epoch G error:  tensor(570.2645, device='cuda:0', grad_fn=<AddBackward0>)\n",
            "epoch D error:  tensor(881.7695, device='cuda:0', grad_fn=<AddBackward0>)\n",
            "161\n",
            "epoch G error:  tensor(546.2160, device='cuda:0', grad_fn=<AddBackward0>)\n",
            "epoch D error:  tensor(875.4545, device='cuda:0', grad_fn=<AddBackward0>)\n",
            "162\n",
            "epoch G error:  tensor(566.0884, device='cuda:0', grad_fn=<AddBackward0>)\n",
            "epoch D error:  tensor(876.3005, device='cuda:0', grad_fn=<AddBackward0>)\n",
            "163\n",
            "epoch G error:  tensor(554.3085, device='cuda:0', grad_fn=<AddBackward0>)\n",
            "epoch D error:  tensor(874.6216, device='cuda:0', grad_fn=<AddBackward0>)\n",
            "164\n",
            "epoch G error:  tensor(565.9134, device='cuda:0', grad_fn=<AddBackward0>)\n",
            "epoch D error:  tensor(878.2933, device='cuda:0', grad_fn=<AddBackward0>)\n",
            "165\n",
            "epoch G error:  tensor(569.8898, device='cuda:0', grad_fn=<AddBackward0>)\n",
            "epoch D error:  tensor(872.8760, device='cuda:0', grad_fn=<AddBackward0>)\n",
            "166\n",
            "epoch G error:  tensor(553.1141, device='cuda:0', grad_fn=<AddBackward0>)\n",
            "epoch D error:  tensor(882.8159, device='cuda:0', grad_fn=<AddBackward0>)\n",
            "167\n",
            "epoch G error:  tensor(556.5714, device='cuda:0', grad_fn=<AddBackward0>)\n",
            "epoch D error:  tensor(878.0568, device='cuda:0', grad_fn=<AddBackward0>)\n",
            "168\n",
            "epoch G error:  tensor(570.7192, device='cuda:0', grad_fn=<AddBackward0>)\n",
            "epoch D error:  tensor(880.1519, device='cuda:0', grad_fn=<AddBackward0>)\n",
            "169\n",
            "epoch G error:  tensor(565.1267, device='cuda:0', grad_fn=<AddBackward0>)\n",
            "epoch D error:  tensor(876.9311, device='cuda:0', grad_fn=<AddBackward0>)\n",
            "170\n",
            "LABEL GIVEN:  tensor([4], device='cuda:0')\n",
            "LABEL PREDICTED:  torch.return_types.max(\n",
            "values=tensor([1.0000], device='cuda:0'),\n",
            "indices=tensor([600], device='cuda:0'))\n"
          ],
          "name": "stdout"
        },
        {
          "output_type": "display_data",
          "data": {
            "image/png": "[encoded data removed]",
            "text/plain": [
              "<Figure size 432x288 with 1 Axes>"
            ]
          },
          "metadata": {
            "tags": []
          }
        },
        {
          "output_type": "stream",
          "text": [
            "epoch G error:  tensor(551.5792, device='cuda:0', grad_fn=<AddBackward0>)\n",
            "epoch D error:  tensor(875.9980, device='cuda:0', grad_fn=<AddBackward0>)\n",
            "171\n",
            "epoch G error:  tensor(550.1167, device='cuda:0', grad_fn=<AddBackward0>)\n",
            "epoch D error:  tensor(882.2462, device='cuda:0', grad_fn=<AddBackward0>)\n",
            "172\n",
            "epoch G error:  tensor(559.4735, device='cuda:0', grad_fn=<AddBackward0>)\n",
            "epoch D error:  tensor(878.0051, device='cuda:0', grad_fn=<AddBackward0>)\n",
            "173\n",
            "epoch G error:  tensor(575.6418, device='cuda:0', grad_fn=<AddBackward0>)\n",
            "epoch D error:  tensor(872.1835, device='cuda:0', grad_fn=<AddBackward0>)\n",
            "174\n",
            "epoch G error:  tensor(557.0070, device='cuda:0', grad_fn=<AddBackward0>)\n",
            "epoch D error:  tensor(883.3514, device='cuda:0', grad_fn=<AddBackward0>)\n",
            "175\n",
            "epoch G error:  tensor(565.6305, device='cuda:0', grad_fn=<AddBackward0>)\n",
            "epoch D error:  tensor(875.6673, device='cuda:0', grad_fn=<AddBackward0>)\n",
            "176\n",
            "epoch G error:  tensor(562.5738, device='cuda:0', grad_fn=<AddBackward0>)\n",
            "epoch D error:  tensor(876.1124, device='cuda:0', grad_fn=<AddBackward0>)\n",
            "177\n",
            "epoch G error:  tensor(554.6860, device='cuda:0', grad_fn=<AddBackward0>)\n",
            "epoch D error:  tensor(883.9263, device='cuda:0', grad_fn=<AddBackward0>)\n",
            "178\n",
            "epoch G error:  tensor(555.8952, device='cuda:0', grad_fn=<AddBackward0>)\n",
            "epoch D error:  tensor(881.2743, device='cuda:0', grad_fn=<AddBackward0>)\n",
            "179\n",
            "epoch G error:  tensor(555.8033, device='cuda:0', grad_fn=<AddBackward0>)\n",
            "epoch D error:  tensor(877.4078, device='cuda:0', grad_fn=<AddBackward0>)\n",
            "180\n",
            "LABEL GIVEN:  tensor([4], device='cuda:0')\n",
            "LABEL PREDICTED:  torch.return_types.max(\n",
            "values=tensor([1.0000], device='cuda:0'),\n",
            "indices=tensor([401], device='cuda:0'))\n"
          ],
          "name": "stdout"
        },
        {
          "output_type": "display_data",
          "data": {
            "image/png": "[encoded data removed]",
            "text/plain": [
              "<Figure size 432x288 with 1 Axes>"
            ]
          },
          "metadata": {
            "tags": []
          }
        },
        {
          "output_type": "stream",
          "text": [
            "epoch G error:  tensor(553.7518, device='cuda:0', grad_fn=<AddBackward0>)\n",
            "epoch D error:  tensor(887.7207, device='cuda:0', grad_fn=<AddBackward0>)\n",
            "181\n",
            "epoch G error:  tensor(540.3781, device='cuda:0', grad_fn=<AddBackward0>)\n",
            "epoch D error:  tensor(881.7598, device='cuda:0', grad_fn=<AddBackward0>)\n",
            "182\n",
            "epoch G error:  tensor(573.2172, device='cuda:0', grad_fn=<AddBackward0>)\n",
            "epoch D error:  tensor(879.1302, device='cuda:0', grad_fn=<AddBackward0>)\n",
            "183\n",
            "epoch G error:  tensor(553.9785, device='cuda:0', grad_fn=<AddBackward0>)\n",
            "epoch D error:  tensor(877.7075, device='cuda:0', grad_fn=<AddBackward0>)\n",
            "184\n",
            "epoch G error:  tensor(548.8443, device='cuda:0', grad_fn=<AddBackward0>)\n",
            "epoch D error:  tensor(875.9346, device='cuda:0', grad_fn=<AddBackward0>)\n",
            "185\n",
            "epoch G error:  tensor(555.4066, device='cuda:0', grad_fn=<AddBackward0>)\n",
            "epoch D error:  tensor(874.6629, device='cuda:0', grad_fn=<AddBackward0>)\n",
            "186\n",
            "epoch G error:  tensor(559.4199, device='cuda:0', grad_fn=<AddBackward0>)\n",
            "epoch D error:  tensor(882.2206, device='cuda:0', grad_fn=<AddBackward0>)\n",
            "187\n",
            "epoch G error:  tensor(559.0777, device='cuda:0', grad_fn=<AddBackward0>)\n",
            "epoch D error:  tensor(877.8810, device='cuda:0', grad_fn=<AddBackward0>)\n",
            "188\n",
            "epoch G error:  tensor(550.5870, device='cuda:0', grad_fn=<AddBackward0>)\n",
            "epoch D error:  tensor(875.0783, device='cuda:0', grad_fn=<AddBackward0>)\n",
            "189\n",
            "epoch G error:  tensor(565.9227, device='cuda:0', grad_fn=<AddBackward0>)\n",
            "epoch D error:  tensor(873.7883, device='cuda:0', grad_fn=<AddBackward0>)\n",
            "190\n",
            "LABEL GIVEN:  tensor([4], device='cuda:0')\n",
            "LABEL PREDICTED:  torch.return_types.max(\n",
            "values=tensor([1.0000], device='cuda:0'),\n",
            "indices=tensor([401], device='cuda:0'))\n"
          ],
          "name": "stdout"
        },
        {
          "output_type": "display_data",
          "data": {
            "image/png": "[encoded data removed]",
            "text/plain": [
              "<Figure size 432x288 with 1 Axes>"
            ]
          },
          "metadata": {
            "tags": []
          }
        },
        {
          "output_type": "stream",
          "text": [
            "epoch G error:  tensor(552.6123, device='cuda:0', grad_fn=<AddBackward0>)\n",
            "epoch D error:  tensor(877.7386, device='cuda:0', grad_fn=<AddBackward0>)\n",
            "191\n",
            "epoch G error:  tensor(542.8184, device='cuda:0', grad_fn=<AddBackward0>)\n",
            "epoch D error:  tensor(882.9836, device='cuda:0', grad_fn=<AddBackward0>)\n",
            "192\n",
            "epoch G error:  tensor(548.7923, device='cuda:0', grad_fn=<AddBackward0>)\n",
            "epoch D error:  tensor(877.1351, device='cuda:0', grad_fn=<AddBackward0>)\n",
            "193\n",
            "epoch G error:  tensor(554.3868, device='cuda:0', grad_fn=<AddBackward0>)\n",
            "epoch D error:  tensor(884.7441, device='cuda:0', grad_fn=<AddBackward0>)\n",
            "194\n",
            "epoch G error:  tensor(541.0090, device='cuda:0', grad_fn=<AddBackward0>)\n",
            "epoch D error:  tensor(885.5939, device='cuda:0', grad_fn=<AddBackward0>)\n",
            "195\n",
            "epoch G error:  tensor(549.8872, device='cuda:0', grad_fn=<AddBackward0>)\n",
            "epoch D error:  tensor(882.5396, device='cuda:0', grad_fn=<AddBackward0>)\n",
            "196\n",
            "epoch G error:  tensor(547.5009, device='cuda:0', grad_fn=<AddBackward0>)\n",
            "epoch D error:  tensor(883.3509, device='cuda:0', grad_fn=<AddBackward0>)\n",
            "197\n",
            "epoch G error:  tensor(539.4616, device='cuda:0', grad_fn=<AddBackward0>)\n",
            "epoch D error:  tensor(882.6995, device='cuda:0', grad_fn=<AddBackward0>)\n",
            "198\n",
            "epoch G error:  tensor(546.5804, device='cuda:0', grad_fn=<AddBackward0>)\n",
            "epoch D error:  tensor(883.3056, device='cuda:0', grad_fn=<AddBackward0>)\n",
            "199\n",
            "epoch G error:  tensor(558.6494, device='cuda:0', grad_fn=<AddBackward0>)\n",
            "epoch D error:  tensor(880.9680, device='cuda:0', grad_fn=<AddBackward0>)\n",
            "200\n",
            "LABEL GIVEN:  tensor([4], device='cuda:0')\n",
            "LABEL PREDICTED:  torch.return_types.max(\n",
            "values=tensor([0.9999], device='cuda:0'),\n",
            "indices=tensor([517], device='cuda:0'))\n"
          ],
          "name": "stdout"
        },
        {
          "output_type": "display_data",
          "data": {
            "image/png": "[encoded data removed]",
            "text/plain": [
              "<Figure size 432x288 with 1 Axes>"
            ]
          },
          "metadata": {
            "tags": []
          }
        },
        {
          "output_type": "stream",
          "text": [
            "epoch G error:  tensor(537.4792, device='cuda:0', grad_fn=<AddBackward0>)\n",
            "epoch D error:  tensor(881.4427, device='cuda:0', grad_fn=<AddBackward0>)\n"
          ],
          "name": "stdout"
        }
      ]
    },
    {
      "cell_type": "code",
      "metadata": {
        "id": "EQoRUiLF4J4Y",
        "colab_type": "code",
        "colab": {
          "base_uri": "https://localhost:8080/",
          "height": 563
        },
        "outputId": "a683aee1-64d0-4592-d246-0a9a8441e706"
      },
      "source": [
        "randtest=Variable(torch.randn(1, 100)).to(device)\n",
        "fig , axs = plt.subplots(2,5) \n",
        "for i in range (10):\n",
        "    maxnum=0\n",
        "    maxidx=0\n",
        "    labelGiven = i*ones_target(1).to(device)\n",
        "    op = generatorNet(randtest,labelGiven.float()).to(device)\n",
        "    op1=vectors_to_images(op).to('cpu').detach().numpy()\n",
        "    axs[i//5,i%5].imshow(op1,cmap='gray')\n",
        "    # plt.show()\n",
        "    print('Label Given= ',labelGiven)\n",
        "    pred=classifyNet(op)\n",
        "    for j in range(10):\n",
        "        # print(pred)\n",
        "        if pred[0][j].item()>maxnum:\n",
        "            maxnum=pred[0][j].item()\n",
        "            maxidx=j\n",
        "    print('Label Predicted= ', maxidx)"
      ],
      "execution_count": 49,
      "outputs": [
        {
          "output_type": "stream",
          "text": [
            "Label Given=  tensor([[0.]], device='cuda:0')\n",
            "Label Predicted=  0\n",
            "Label Given=  tensor([[1.]], device='cuda:0')\n",
            "Label Predicted=  1\n",
            "Label Given=  tensor([[2.]], device='cuda:0')\n",
            "Label Predicted=  2\n",
            "Label Given=  tensor([[3.]], device='cuda:0')\n",
            "Label Predicted=  3\n",
            "Label Given=  tensor([[4.]], device='cuda:0')\n",
            "Label Predicted=  4\n",
            "Label Given=  tensor([[5.]], device='cuda:0')\n",
            "Label Predicted=  5\n",
            "Label Given=  tensor([[6.]], device='cuda:0')\n",
            "Label Predicted=  6\n",
            "Label Given=  tensor([[7.]], device='cuda:0')\n",
            "Label Predicted=  7\n",
            "Label Given=  tensor([[8.]], device='cuda:0')\n",
            "Label Predicted=  8\n",
            "Label Given=  tensor([[9.]], device='cuda:0')\n",
            "Label Predicted=  9\n"
          ],
          "name": "stdout"
        },
        {
          "output_type": "display_data",
          "data": {
            "image/png": "[encoded data removed]",
            "text/plain": [
              "<Figure size 432x288 with 10 Axes>"
            ]
          },
          "metadata": {
            "tags": []
          }
        }
      ]
    },
    {
      "cell_type": "code",
      "metadata": {
        "id": "rclkr1e4m71g",
        "colab_type": "code",
        "colab": {}
      },
      "source": [
        "# torch.save(generatorNet.state_dict(),'generator')\n",
        "# torch.save(discriminatorNet.state_dict(),'discriminator')"
      ],
      "execution_count": 0,
      "outputs": []
    }
  ]
}